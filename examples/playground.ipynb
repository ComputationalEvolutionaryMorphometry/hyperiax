{
 "cells": [
  {
   "cell_type": "code",
   "execution_count": null,
   "metadata": {},
   "outputs": [],
   "source": [
    "from hyperiax.tree.fasttree import TopologyNode, FastTree"
   ]
  },
  {
   "cell_type": "code",
   "execution_count": null,
   "metadata": {},
   "outputs": [],
   "source": [
    "root = TopologyNode()\n",
    "root.children = [TopologyNode(root) for _ in range(3)]\n",
    "root.children[1].children = [TopologyNode(root.children[1]) for _ in range(2)]\n",
    "\n",
    "tree = FastTree(root)"
   ]
  }
 ],
 "metadata": {
  "language_info": {
   "name": "python"
  }
 },
 "nbformat": 4,
 "nbformat_minor": 2
}
