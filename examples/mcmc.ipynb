{
 "cells": [
  {
   "cell_type": "code",
   "execution_count": 1,
   "metadata": {},
   "outputs": [],
   "source": [
    "%load_ext autoreload\n",
    "%autoreload 2"
   ]
  },
  {
   "cell_type": "code",
   "execution_count": 2,
   "metadata": {},
   "outputs": [],
   "source": [
    "import jaxtrees\n",
    "from jax.random import PRNGKey, split\n",
    "import jax\n",
    "from jax import numpy as jnp\n",
    "from jaxtrees.models import UpdateModel\n",
    "from jaxtrees.models.functional import pass_up\n",
    "from jaxtrees.execution import RedBlackExecutor\n",
    "from jaxtrees.mcmc import ParameterStore, FixedParameter\n",
    "import jax\n",
    "from functools import partial"
   ]
  },
  {
   "cell_type": "code",
   "execution_count": 3,
   "metadata": {},
   "outputs": [
    {
     "name": "stderr",
     "output_type": "stream",
     "text": [
      "WARNING:absl:No GPU/TPU found, falling back to CPU. (Set TF_CPP_MIN_LOG_LEVEL=0 and rerun for more info.)\n"
     ]
    }
   ],
   "source": [
    "key = PRNGKey(0)"
   ]
  },
  {
   "cell_type": "code",
   "execution_count": 4,
   "metadata": {},
   "outputs": [],
   "source": [
    "tree = jaxtrees.tree.builders.THeight_legacy(3,2)\n",
    "subkey, key = split(key)\n",
    "noise_tree = jaxtrees.tree.initializers.initialize_noise(tree, key, (2,))"
   ]
  },
  {
   "cell_type": "code",
   "execution_count": 5,
   "metadata": {},
   "outputs": [],
   "source": [
    "class MCMCExample(UpdateModel):\n",
    "    def update(self, parent_value,children_values,node_value, parameters):\n",
    "        if not children_values:\n",
    "            return {'noise': parent_value['noise']}, True\n",
    "        if not parent_value:\n",
    "            return {'noise': children_values['noise'].mean(0)}, True\n",
    "        \n",
    "        parent_noise = parent_value['noise']\n",
    "        children_noise = children_values['noise'].mean(0)\n",
    "\n",
    "        result = (1-parameters['lambd'])*parent_noise+parameters['lambd'] *children_noise\n",
    "\n",
    "        return {'noise': result}, True\n",
    "    "
   ]
  },
  {
   "cell_type": "code",
   "execution_count": 6,
   "metadata": {},
   "outputs": [],
   "source": [
    "params = ParameterStore({\n",
    "    'lambd': FixedParameter(0.5),\n",
    "    # put more parameters here\n",
    "})"
   ]
  },
  {
   "cell_type": "code",
   "execution_count": 7,
   "metadata": {},
   "outputs": [],
   "source": [
    "model = MCMCExample()\n",
    "exe = RedBlackExecutor(model)"
   ]
  },
  {
   "cell_type": "code",
   "execution_count": 8,
   "metadata": {},
   "outputs": [],
   "source": [
    "it = exe.get_iterator(noise_tree)\n",
    "\n",
    "for node in it:\n",
    "    key, subkey = jax.random.split(key)\n",
    "    proposed = params.propose(subkey)\n",
    "\n",
    "    accepted = exe.update(node, proposed)\n",
    "    params.update(proposed, accepted)"
   ]
  },
  {
   "cell_type": "code",
   "execution_count": null,
   "metadata": {},
   "outputs": [],
   "source": []
  }
 ],
 "metadata": {
  "kernelspec": {
   "display_name": "base",
   "language": "python",
   "name": "python3"
  },
  "language_info": {
   "codemirror_mode": {
    "name": "ipython",
    "version": 3
   },
   "file_extension": ".py",
   "mimetype": "text/x-python",
   "name": "python",
   "nbconvert_exporter": "python",
   "pygments_lexer": "ipython3",
   "version": "3.12.1"
  }
 },
 "nbformat": 4,
 "nbformat_minor": 2
}
