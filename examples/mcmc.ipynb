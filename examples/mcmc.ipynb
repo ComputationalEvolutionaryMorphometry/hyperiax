{
 "cells": [
  {
   "cell_type": "code",
   "execution_count": 13,
   "metadata": {},
   "outputs": [
    {
     "name": "stdout",
     "output_type": "stream",
     "text": [
      "The autoreload extension is already loaded. To reload it, use:\n",
      "  %reload_ext autoreload\n"
     ]
    }
   ],
   "source": [
    "%load_ext autoreload\n",
    "%autoreload 2"
   ]
  },
  {
   "cell_type": "code",
   "execution_count": 14,
   "metadata": {},
   "outputs": [],
   "source": [
    "import hyperiax\n",
    "from jax.random import PRNGKey, split\n",
    "import jax\n",
    "from jax import numpy as jnp\n",
    "from hyperiax.models import UpdateModel\n",
    "from hyperiax.models.functional import pass_up\n",
    "from hyperiax.execution import RedBlackExecutor\n",
    "from hyperiax.mcmc import ParameterStore, FixedParameter\n",
    "import jax\n",
    "from functools import partial"
   ]
  },
  {
   "cell_type": "code",
   "execution_count": 15,
   "metadata": {},
   "outputs": [],
   "source": [
    "key = PRNGKey(0)"
   ]
  },
  {
   "cell_type": "code",
   "execution_count": 16,
   "metadata": {},
   "outputs": [],
   "source": [
    "tree = hyperiax.tree.builders.symmetric_tree(3,2)\n",
    "subkey, key = split(key)\n",
    "noise_tree = hyperiax.tree.initializers.initialize_noise(tree, key, (2,))"
   ]
  },
  {
   "cell_type": "code",
   "execution_count": 17,
   "metadata": {},
   "outputs": [],
   "source": [
    "class MCMCExample(UpdateModel):\n",
    "    def update(self, parent_value,children_values,node_value, parameters):\n",
    "        if not children_values:\n",
    "            return {'noise': parent_value['noise']}, True\n",
    "        if not parent_value:\n",
    "            return {'noise': children_values['noise'].mean(0)}, True\n",
    "        \n",
    "        parent_noise = parent_value['noise']\n",
    "        children_noise = children_values['noise'].mean(0)\n",
    "\n",
    "        result = (1-parameters['lambd'])*parent_noise+parameters['lambd'] *children_noise\n",
    "\n",
    "        return {'noise': result}, True\n",
    "    "
   ]
  },
  {
   "cell_type": "code",
   "execution_count": 27,
   "metadata": {},
   "outputs": [],
   "source": [
    "from hyperiax.mcmc.varianceParameter import VarianceParameter\n",
    "\n",
    "\n",
    "params = ParameterStore({\n",
    "    'lambd': FixedParameter(0.5),\n",
    "    'alpha': VarianceParameter(2)\n",
    "    # put more parameters here\n",
    "})"
   ]
  },
  {
   "cell_type": "code",
   "execution_count": 28,
   "metadata": {},
   "outputs": [],
   "source": [
    "model = MCMCExample()\n",
    "exe = RedBlackExecutor(model)"
   ]
  },
  {
   "cell_type": "code",
   "execution_count": 29,
   "metadata": {},
   "outputs": [
    {
     "data": {
      "text/plain": [
       "{'lambd': 0.5, 'alpha': Array(2.0491912, dtype=float32)}"
      ]
     },
     "execution_count": 29,
     "metadata": {},
     "output_type": "execute_result"
    }
   ],
   "source": [
    "params.propose(subkey).values()"
   ]
  },
  {
   "cell_type": "code",
   "execution_count": 32,
   "metadata": {},
   "outputs": [],
   "source": [
    "it = exe.get_iterator(noise_tree)\n",
    "\n",
    "for node in it:\n",
    "    key, subkey = jax.random.split(key)\n",
    "    proposed = params.propose(subkey)\n",
    "\n",
    "    accepted = exe.update(node, proposed.values())\n",
    "    if accepted:\n",
    "        params = proposed"
   ]
  },
  {
   "cell_type": "code",
   "execution_count": null,
   "metadata": {},
   "outputs": [],
   "source": []
  },
  {
   "cell_type": "code",
   "execution_count": null,
   "metadata": {},
   "outputs": [],
   "source": []
  }
 ],
 "metadata": {
  "kernelspec": {
   "display_name": "base",
   "language": "python",
   "name": "python3"
  },
  "language_info": {
   "codemirror_mode": {
    "name": "ipython",
    "version": 3
   },
   "file_extension": ".py",
   "mimetype": "text/x-python",
   "name": "python",
   "nbconvert_exporter": "python",
   "pygments_lexer": "ipython3",
   "version": "3.11.8"
  }
 },
 "nbformat": 4,
 "nbformat_minor": 2
}
