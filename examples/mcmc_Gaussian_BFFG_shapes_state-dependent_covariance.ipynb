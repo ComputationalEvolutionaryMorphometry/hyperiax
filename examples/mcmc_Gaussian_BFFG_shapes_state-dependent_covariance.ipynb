{
 "cells": [
  {
   "cell_type": "markdown",
   "metadata": {},
   "source": [
    "# MCMC using backward filtering, forward guiding for shapes\n",
    "\n",
    "Parameter inference for trees with Gaussian transitions along edges and observations at the leaf nodes for landmark represented shapes. Please refer to the notebook [mcmc_Gaussian_BFFG.ipynb](mcmc_Gaussian_BFFG.ipynb) for a simpler version with $\\mathbb R^2$ data, and [mcmc_Gaussian_BFFG_shapes.ipynb](mcmc_Gaussian_BFFG_shapes.ipynb) for a version with constant covariance and thus a fully Gaussian model. In the present version, the node covariance is shape depedent, thus requiring computation of likelihood ratios in the downwards passes for use in the MCMC iterations.\n",
    "\n",
    "The covariance is assumed rotationally invariant, allowing factorization into a kernel product the identity matrix of the ambient space.\n",
    "\n",
    "The conditioning and upwards/downwards message passing and fusing operations follow the backward filtering, forward guiding approach of Frank van der Meulen, Moritz Schauer et al., see https://arxiv.org/abs/2010.03509 and https://arxiv.org/abs/2203.04155 . The latter reference provides an accesible introduction to the scheme and the notation used in this example. The notation, likelihood ratio calculation etc. follow https://arxiv.org/abs/2203.04155 section 6.1."
   ]
  },
  {
   "cell_type": "code",
   "execution_count": 1,
   "metadata": {
    "execution": {
     "iopub.execute_input": "2025-03-04T16:55:27.906410Z",
     "iopub.status.busy": "2025-03-04T16:55:27.906085Z",
     "iopub.status.idle": "2025-03-04T16:55:27.924301Z",
     "shell.execute_reply": "2025-03-04T16:55:27.923976Z"
    }
   },
   "outputs": [],
   "source": [
    "%load_ext autoreload\n",
    "%autoreload 2"
   ]
  },
  {
   "cell_type": "code",
   "execution_count": 2,
   "metadata": {
    "execution": {
     "iopub.execute_input": "2025-03-04T16:55:27.926445Z",
     "iopub.status.busy": "2025-03-04T16:55:27.926301Z",
     "iopub.status.idle": "2025-03-04T16:55:28.611041Z",
     "shell.execute_reply": "2025-03-04T16:55:28.610776Z"
    }
   },
   "outputs": [],
   "source": [
    "import jax\n",
    "jax.config.update(\"jax_enable_x64\", True)\n",
    "from jax import numpy as jnp\n",
    "from jax.random import PRNGKey, split\n",
    "\n",
    "from hyperiax.execution import OrderedExecutor\n",
    "from hyperiax.models import UpLambdaReducer, DownLambda, UpLambda\n",
    "\n",
    "from hyperiax.tree.topology import symmetric_topology\n",
    "from hyperiax.tree import HypTree\n",
    "\n",
    "from hyperiax.plotting import plot_tree_text, plot_shape_2d, plot_tree_2d_scatter, plot_tree_2d_shape\n",
    "\n",
    "from hyperiax.mcmc import ParameterStore, VarianceParameter\n",
    "from hyperiax.mcmc.metropolis_hastings import metropolis_hastings\n",
    "from hyperiax.mcmc.plotting import trace_plots\n",
    "\n",
    "from ABFFG import *\n",
    "from shape import k_K2\n",
    "\n",
    "import matplotlib.pyplot as plt\n",
    "from tqdm import tqdm"
   ]
  },
  {
   "cell_type": "code",
   "execution_count": 3,
   "metadata": {
    "execution": {
     "iopub.execute_input": "2025-03-04T16:55:28.612710Z",
     "iopub.status.busy": "2025-03-04T16:55:28.612607Z",
     "iopub.status.idle": "2025-03-04T16:55:28.642773Z",
     "shell.execute_reply": "2025-03-04T16:55:28.642445Z"
    }
   },
   "outputs": [],
   "source": [
    "# seed,\n",
    "seed = 42\n",
    "#import os; seed = int(os.urandom(5).hex(), 16)\n",
    "key = PRNGKey(seed)"
   ]
  },
  {
   "cell_type": "markdown",
   "metadata": {},
   "source": [
    "# Shape related setup"
   ]
  },
  {
   "cell_type": "code",
   "execution_count": 4,
   "metadata": {
    "execution": {
     "iopub.execute_input": "2025-03-04T16:55:28.644238Z",
     "iopub.status.busy": "2025-03-04T16:55:28.644172Z",
     "iopub.status.idle": "2025-03-04T16:55:28.763572Z",
     "shell.execute_reply": "2025-03-04T16:55:28.763299Z"
    }
   },
   "outputs": [
    {
     "data": {
      "image/png": "[encoded data removed]",
      "text/plain": [
       "<Figure size 640x480 with 1 Axes>"
      ]
     },
     "metadata": {},
     "output_type": "display_data"
    }
   ],
   "source": [
    "# define shape and plot\n",
    "d = 2; n = 64 # d = dimension of embedding space (usually 2), n = number of landmarkds\n",
    "phis = jnp.linspace(0,2*jnp.pi,n,endpoint=False) # circular shape\n",
    "root = jnp.vstack((jnp.cos(phis),jnp.sin(phis))).T.flatten()\n",
    "\n",
    "# plot\n",
    "plot_shape = plot_shape_2d\n",
    "plot_shape(root)"
   ]
  },
  {
   "cell_type": "code",
   "execution_count": 5,
   "metadata": {
    "execution": {
     "iopub.execute_input": "2025-03-04T16:55:28.778818Z",
     "iopub.status.busy": "2025-03-04T16:55:28.778712Z",
     "iopub.status.idle": "2025-03-04T16:55:28.788206Z",
     "shell.execute_reply": "2025-03-04T16:55:28.787969Z"
    }
   },
   "outputs": [],
   "source": [
    "# diffusion and covariance specification for shape processes\n",
    "# This version assumes same covariance in all directions (x,y or x,y,z), thus allowing some factorization of the covariance matrix\n",
    "\n",
    "kQ12 = lambda x,params: (1/n)*k_K2(x,params)\n",
    "\n",
    "# evaluate k on two pairs of landmark configurations\n",
    "kQ12_q = lambda q1,q2,params: kQ12(q1.reshape((-1,d))[:,jnp.newaxis,:]-q2.reshape((-1,d))[jnp.newaxis,:,:],params)\n",
    "\n",
    "# diffusion field and covariance matrix factored in dimensions\n",
    "sigma = lambda q,theta: kQ12_q(q,q,theta) # diffusion field, kernel evaluated on all landmark pairs\n",
    "def a(q,theta): sigmaq = sigma(q,theta); return jnp.einsum('ij,kj->ik',sigmaq,sigmaq) # covariance\n",
    "# multiply on the factorized matrix, e.g. covariance matrix\n",
    "dot = lambda A,v: jnp.einsum('ij,jd->id',A,v.reshape((n,d))).flatten()\n",
    "# multiple on inverse factorized matrix, e.g. inverse covariance matrix\n",
    "solve = lambda A,v: jnp.linalg.solve(A,v.reshape((n,d))).flatten()"
   ]
  },
  {
   "cell_type": "markdown",
   "metadata": {},
   "source": [
    "# Gaussian tree, node-dependent covariance"
   ]
  },
  {
   "cell_type": "markdown",
   "metadata": {},
   "source": [
    "First, we initialize the tree. We set the root to the shape defined above."
   ]
  },
  {
   "cell_type": "code",
   "execution_count": 6,
   "metadata": {
    "execution": {
     "iopub.execute_input": "2025-03-04T16:55:28.789586Z",
     "iopub.status.busy": "2025-03-04T16:55:28.789507Z",
     "iopub.status.idle": "2025-03-04T16:55:29.343317Z",
     "shell.execute_reply": "2025-03-04T16:55:29.343067Z"
    }
   },
   "outputs": [
    {
     "name": "stdout",
     "output_type": "stream",
     "text": [
      "                        o\n",
      "    ┌─────────┬─────────┼─────────┬─────────┐\n",
      "    o         o         o         o         o    \n",
      "┌─┬─┼─┬─┐ ┌─┬─┼─┬─┐ ┌─┬─┼─┬─┐ ┌─┬─┼─┬─┐ ┌─┬─┼─┬─┐\n",
      "o o o o o o o o o o o o o o o o o o o o o o o o o\n"
     ]
    },
    {
     "name": "stdout",
     "output_type": "stream",
     "text": [
      "HypTree(size=31, levels=3, leaves=25, inner nodes=5)\n"
     ]
    }
   ],
   "source": [
    "# create topology and tree\n",
    "topology = symmetric_topology(height=2, degree=5)\n",
    "plot_tree_text(topology)\n",
    "tree = HypTree(topology)\n",
    "print(tree)\n",
    "\n",
    "# add properties to tree\n",
    "tree.add_property('edge_length', shape=())\n",
    "# data dimension\n",
    "d = 2\n",
    "tree.add_property('value', shape=(n*d,))\n",
    "tree.add_property('noise', shape=(n*d,))\n",
    "\n",
    "# set edge lengths on all nodes\n",
    "tree.data['edge_length'] = jnp.ones_like(tree.data['edge_length'])\n",
    "\n",
    "# root value\n",
    "tree.data['value'] = tree.data['value'].at[0].set(root)"
   ]
  },
  {
   "cell_type": "markdown",
   "metadata": {},
   "source": [
    "We then define parameters for the Gaussian transition kernel."
   ]
  },
  {
   "cell_type": "code",
   "execution_count": 7,
   "metadata": {
    "execution": {
     "iopub.execute_input": "2025-03-04T16:55:29.344823Z",
     "iopub.status.busy": "2025-03-04T16:55:29.344747Z",
     "iopub.status.idle": "2025-03-04T16:55:29.355284Z",
     "shell.execute_reply": "2025-03-04T16:55:29.355035Z"
    }
   },
   "outputs": [],
   "source": [
    "# parameters, variance and observation noise\n",
    "params = ParameterStore({\n",
    "    'k_alpha': VarianceParameter(.3), # kernel amplitude, governs global tree variance\n",
    "    'k_sigma': VarianceParameter(.5), # kernel width, for Gaussian kernels this is proportional to the variance\n",
    "    'obs_var': VarianceParameter(1e-3) # observation noise variance\n",
    "    })"
   ]
  },
  {
   "cell_type": "markdown",
   "metadata": {},
   "source": [
    "Now follows the down transitions. At first, we define the unconditional transitions, which are just Gaussian samples. The covariance is sqare of the pairwise kernel evaluations in `sigma(params)` times the variance parameter times edge lengths."
   ]
  },
  {
   "cell_type": "code",
   "execution_count": 8,
   "metadata": {
    "execution": {
     "iopub.execute_input": "2025-03-04T16:55:29.356688Z",
     "iopub.status.busy": "2025-03-04T16:55:29.356603Z",
     "iopub.status.idle": "2025-03-04T16:55:29.363870Z",
     "shell.execute_reply": "2025-03-04T16:55:29.363634Z"
    }
   },
   "outputs": [],
   "source": [
    "# vmapped version of down_unconditional. In this version, the function takes a single node, not a batch (contrast to the batched version in mcmc_Gaussian_BFFG.ipynb)\n",
    "@jax.jit\n",
    "def down_unconditional(noise,edge_length,parent_value,params,**args):\n",
    "    def f(noise,edge_length,parent_value):\n",
    "        var = edge_length # variance is edge length\n",
    "        return {'value': parent_value+jnp.sqrt(var)*dot(sigma(parent_value,params),noise)}\n",
    "\n",
    "    return jax.vmap(f)(noise,edge_length,parent_value)\n",
    "downmodel_unconditional = DownLambda(down_fn=down_unconditional)\n",
    "down_unconditional = OrderedExecutor(downmodel_unconditional)"
   ]
  },
  {
   "cell_type": "markdown",
   "metadata": {},
   "source": [
    "We can now draw noise and perform a downwards pass. This gives values at all nodes of the tree. Note that observation noise is not added to the leaves yet."
   ]
  },
  {
   "cell_type": "code",
   "execution_count": 9,
   "metadata": {
    "execution": {
     "iopub.execute_input": "2025-03-04T16:55:29.365182Z",
     "iopub.status.busy": "2025-03-04T16:55:29.365119Z",
     "iopub.status.idle": "2025-03-04T16:55:29.538133Z",
     "shell.execute_reply": "2025-03-04T16:55:29.537835Z"
    }
   },
   "outputs": [],
   "source": [
    "# sample new noise\n",
    "def update_noise(tree,key): \n",
    "    tree.data['noise'] = jax.random.normal(key, shape=tree.data['noise'].shape)\n",
    "\n",
    "subkey, key = split(key)\n",
    "update_noise(tree,subkey)\n",
    "down_unconditional.down(tree,params.values())"
   ]
  },
  {
   "cell_type": "markdown",
   "metadata": {},
   "source": [
    "Add uncorrelated observation noise to leaves.\n",
    "\n"
   ]
  },
  {
   "cell_type": "code",
   "execution_count": 10,
   "metadata": {
    "execution": {
     "iopub.execute_input": "2025-03-04T16:55:29.539736Z",
     "iopub.status.busy": "2025-03-04T16:55:29.539657Z",
     "iopub.status.idle": "2025-03-04T16:55:29.681996Z",
     "shell.execute_reply": "2025-03-04T16:55:29.681602Z"
    }
   },
   "outputs": [],
   "source": [
    "# copy the sampled tree and add noise to leaf nodes\n",
    "key, subkey = split(key)\n",
    "leaf_values = tree.data['value'][tree.is_leaf]+jnp.sqrt(params['obs_var'].value)*jax.random.normal(subkey,tree.data['value'][tree.is_leaf].shape)\n",
    "tree.data['value'] = tree.data['value'].at[tree.is_leaf].set(leaf_values)"
   ]
  },
  {
   "cell_type": "markdown",
   "metadata": {},
   "source": [
    "Plot a generated tree."
   ]
  },
  {
   "cell_type": "code",
   "execution_count": 11,
   "metadata": {
    "execution": {
     "iopub.execute_input": "2025-03-04T16:55:29.683770Z",
     "iopub.status.busy": "2025-03-04T16:55:29.683677Z",
     "iopub.status.idle": "2025-03-04T16:55:31.742512Z",
     "shell.execute_reply": "2025-03-04T16:55:31.742253Z"
    }
   },
   "outputs": [
    {
     "data": {
      "image/png": "[encoded data removed]",
      "text/plain": [
       "<Figure size 1000x800 with 1 Axes>"
      ]
     },
     "metadata": {},
     "output_type": "display_data"
    },
    {
     "data": {
      "image/png": "[encoded data removed]",
      "text/plain": [
       "<Figure size 1600x1000 with 1 Axes>"
      ]
     },
     "metadata": {},
     "output_type": "display_data"
    }
   ],
   "source": [
    "fig,ax = plt.subplots(figsize=(10,8))\n",
    "plot_tree_2d_scatter(tree,'value',selector=lambda z: z.reshape((1,n,d)),ax=ax)\n",
    "plt.gca().set_title('Sampled tree without leaf noise')\n",
    "\n",
    "plot_tree_2d_shape(tree,'value')"
   ]
  },
  {
   "cell_type": "markdown",
   "metadata": {},
   "source": [
    "# Backwards filtering, forward guiding\n",
    "\n",
    "We now define the backwards filter through the up function. The Gaussian are parametrized in the $(c,F,H)$ format make the fuse just a sum of the results of the up operation. See https://arxiv.org/abs/2203.04155 for details."
   ]
  },
  {
   "cell_type": "code",
   "execution_count": 12,
   "metadata": {
    "execution": {
     "iopub.execute_input": "2025-03-04T16:55:31.744052Z",
     "iopub.status.busy": "2025-03-04T16:55:31.743958Z",
     "iopub.status.idle": "2025-03-04T16:55:31.756857Z",
     "shell.execute_reply": "2025-03-04T16:55:31.756671Z"
    }
   },
   "outputs": [],
   "source": [
    "# backwards filter\n",
    "@jax.jit\n",
    "def up(noise,edge_length,c_T,F_T,H_T,params,**args):\n",
    "    def f(edge_length,c_T,F_T,H_T):\n",
    "        var = edge_length # variance is edge length\n",
    "\n",
    "        #Sigma_T = jnp.linalg.inv(H_T) # alt. Q_T\n",
    "        #v_T = dot(Sigma_T,F_T)\n",
    "        v_T = solve(H_T,F_T)\n",
    "        covar = var*a(v_T,params) # covariance matrix\n",
    "    \n",
    "        invPhi_0 = (jnp.eye(n)+H_T@covar)\n",
    "        #Sigma_0 = Sigma_T@invPhi_0 # = Sigma_T+covar, alt. C_0\n",
    "        Sigma_0 = jnp.linalg.solve(H_T,invPhi_0) # = Sigma_T+covar, alt. C_0\n",
    "        #H_0 = jnp.linalg.inv(Sigma_0) # hat H\n",
    "        H_0 = jnp.linalg.solve(invPhi_0,H_T) # hat H\n",
    "        F_0 = solve(invPhi_0,F_T) # hat F\n",
    "        v_0 = dot(Sigma_0,F_0)\n",
    "        c_0 = jax.vmap(\n",
    "            lambda v_T,c_T,F_T: c_T-logphi_H(jnp.zeros(n),v_T,H_T)+logphi_H(jnp.zeros(n),v_T,H_0), # = (c_T-logphi_can(jnp.zeros(n),F_T,H_T))+logphi_H(jnp.zeros(n),v_T,H_0)\n",
    "            (1,0,1))(v_T.reshape((n,d)),c_T.reshape(d),F_T.reshape((n,d)))\n",
    "\n",
    "        return {'c_0': c_0, 'F_0': F_0, 'H_0': H_0}\n",
    "    return jax.vmap(f)(edge_length,c_T,F_T,H_T)\n",
    "def transform(child_c_0,child_F_0,child_H_0,**args):\n",
    "    F_T = child_F_0\n",
    "    H_T = child_H_0\n",
    "    return {'c_T': jax.vmap(lambda F_T,H_T: jax.vmap(lambda F_T: logphi_can(jnp.zeros(n),F_T,H_T),1)(F_T.reshape((n,d))))(F_T,H_T), 'F_T': F_T, 'H_T': H_T}\n",
    "upmodel = UpLambdaReducer(up, transform,\n",
    "                   reductions={\n",
    "                       'c_0': 'sum',\n",
    "                       'F_0': 'sum',\n",
    "                       'H_0': 'sum',\n",
    "                    }\n",
    "        )\n",
    "up = OrderedExecutor(upmodel)"
   ]
  },
  {
   "cell_type": "markdown",
   "metadata": {},
   "source": [
    "We initialize the tree for up by computing the $c,F,H$-values at the leaves."
   ]
  },
  {
   "cell_type": "code",
   "execution_count": 13,
   "metadata": {
    "execution": {
     "iopub.execute_input": "2025-03-04T16:55:31.758124Z",
     "iopub.status.busy": "2025-03-04T16:55:31.758043Z",
     "iopub.status.idle": "2025-03-04T16:55:31.782969Z",
     "shell.execute_reply": "2025-03-04T16:55:31.782706Z"
    }
   },
   "outputs": [],
   "source": [
    "# initialize tree for up\n",
    "tree.add_property('c_0', shape=(d,)); tree.add_property('F_0', shape=(n*d,)); tree.add_property('H_0', shape=(n,n)); tree.add_property('c_T', shape=(d,)); tree.add_property('F_T', shape=(n*d,)); tree.add_property('H_T', shape=(n,n)); tree.add_property('logw')\n",
    "def init_up(leaf_values,params):\n",
    "    tree.data['value'] = tree.data['value'].at[tree.is_leaf].set(leaf_values)\n",
    "    tree.data['H_T'] = tree.data['H_T'].at[tree.is_leaf].set((jnp.eye(n)/params['obs_var'].value)[None,:,:])\n",
    "    tree.data['F_T'] = tree.data['F_T'].at[tree.is_leaf].set(jax.vmap(lambda H,v: dot(H,v))(tree.data['H_T'][tree.is_leaf],leaf_values))\n",
    "    Sigma = params['obs_var'].value*jnp.eye(n)\n",
    "    tree.data['c_T'] = tree.data['c_T'].at[tree.is_leaf].set(jax.vmap(lambda v: jax.vmap(lambda v: logphi(jnp.zeros(n),v,Sigma),1)(v.reshape((n,d))))(leaf_values))\n"
   ]
  },
  {
   "cell_type": "markdown",
   "metadata": {},
   "source": [
    "We can now define the conditional downwards pass, i.e. the forwards guiding."
   ]
  },
  {
   "cell_type": "code",
   "execution_count": 14,
   "metadata": {
    "execution": {
     "iopub.execute_input": "2025-03-04T16:55:31.784407Z",
     "iopub.status.busy": "2025-03-04T16:55:31.784342Z",
     "iopub.status.idle": "2025-03-04T16:55:31.794218Z",
     "shell.execute_reply": "2025-03-04T16:55:31.793808Z"
    }
   },
   "outputs": [],
   "source": [
    "@jax.jit\n",
    "def down_conditional(noise,edge_length,c_0,F_0,H_0,F_T,H_T,parent_value,params,**args):\n",
    "    def f(noise,edge_length,c_0,F_0,H_0,F_T,H_T,parent_value):\n",
    "        x = parent_value\n",
    "        var = edge_length # variance is edge length\n",
    "        covar = var*a(parent_value,params) # covariance matrix\n",
    "\n",
    "        #invSigma = jnp.linalg.inv(covar)\n",
    "        Sigma = covar\n",
    "        #H = H_T+invSigma\n",
    "        invH = jnp.linalg.solve(jnp.eye(n)+Sigma@H_T,Sigma)\n",
    "        #mu = solve(H,F_T+dot(invSigma,x))\n",
    "        mu = dot(invH,F_T+solve(Sigma,x))\n",
    "\n",
    "        # for likelihood ratio\n",
    "        #Sigma_T = jnp.linalg.inv(H_T)\n",
    "        Sigma_T = invH\n",
    "        v_T = dot(Sigma_T,F_T) # solve(H_T,F_T)\n",
    "\n",
    "        # test\n",
    "        #Sigma_0 = jnp.linalg.inv(H_0)\n",
    "        #v_0 = dot(Sigma_0,F_0)\n",
    "        v_0 = solve(H_0,F_0)\n",
    "\n",
    "        inv_covar_Sigma_T = jnp.linalg.solve(jnp.eye(n)+H_T@Sigma_T,H_T) # inv(covar+Sigma_T)\n",
    "\n",
    "        return {\n",
    "            #'value': mu+jax.scipy.linalg.solve_triangular(jax.scipy.linalg.cholesky(H,lower=True),noise.reshape((n,d))).flatten(),\n",
    "            'value': mu+dot(jax.scipy.linalg.cholesky(invH,lower=True),noise),\n",
    "            #'value': mu+dot(jax.scipy.linalg.sqrtm(invH),noise),\n",
    "            'logw': jnp.sum(jax.vmap(\n",
    "                #lambda v_T,parent_value,c_0,F_0: logphi(v_T,parent_value,covar+Sigma_T)-logU(parent_value,c_0,F_0,H_0),\n",
    "                lambda v_T,parent_value,c_0,F_0: logphi_H(v_T,parent_value,inv_covar_Sigma_T)-logU(parent_value,c_0,F_0,H_0),\n",
    "                (1,1,0,1))(v_T.reshape((n,d)),parent_value.reshape((n,d)),c_0.reshape(d),F_0.reshape((n,d)))),\n",
    "            }\n",
    "\n",
    "    return jax.vmap(f)(noise,edge_length,c_0,F_0,H_0,F_T,H_T,parent_value)\n",
    "downmodel_conditional = DownLambda(down_fn=down_conditional)\n",
    "down_conditional = OrderedExecutor(downmodel_conditional)"
   ]
  },
  {
   "cell_type": "markdown",
   "metadata": {},
   "source": [
    "We make an upwards pass and a downwards conditional sampling to test. Subsequently, we time the three operations (uncondtional down, conditional down, and up)."
   ]
  },
  {
   "cell_type": "code",
   "execution_count": 15,
   "metadata": {
    "execution": {
     "iopub.execute_input": "2025-03-04T16:55:31.796244Z",
     "iopub.status.busy": "2025-03-04T16:55:31.796081Z",
     "iopub.status.idle": "2025-03-04T16:55:34.192091Z",
     "shell.execute_reply": "2025-03-04T16:55:34.191832Z"
    }
   },
   "outputs": [
    {
     "name": "stdout",
     "output_type": "stream",
     "text": [
      "CPU times: user 1.05 ms, sys: 358 μs, total: 1.41 ms\n",
      "Wall time: 448 μs\n",
      "CPU times: user 14.2 ms, sys: 2.36 ms, total: 16.6 ms\n",
      "Wall time: 13 ms\n",
      "CPU times: user 11.9 ms, sys: 1.73 ms, total: 13.6 ms\n",
      "Wall time: 10.7 ms\n"
     ]
    }
   ],
   "source": [
    "# backwards filter and fowards guiding\n",
    "init_up(leaf_values,params)\n",
    "up.up(tree,params.values())\n",
    "down_conditional.down(tree,params.values())\n",
    "\n",
    "# time the operations\n",
    "subkey, key = split(key)\n",
    "update_noise(tree,subkey)\n",
    "down_unconditional.down(tree,params.values())\n",
    "%time down_unconditional.down(tree,params.values()); jax.block_until_ready(tree.data['value'])\n",
    "%time down_conditional.down(tree,params.values()); jax.block_until_ready(tree.data['value'])\n",
    "%time up.up(tree,params.values()); jax.block_until_ready(tree.data['H_0'])\n",
    "None"
   ]
  },
  {
   "cell_type": "markdown",
   "metadata": {},
   "source": [
    "# MCMC"
   ]
  },
  {
   "cell_type": "markdown",
   "metadata": {},
   "source": [
    "MCMC run incorporating the likelihood ratios arising from the Gaussian approximation."
   ]
  },
  {
   "cell_type": "code",
   "execution_count": 16,
   "metadata": {
    "execution": {
     "iopub.execute_input": "2025-03-04T16:55:34.193715Z",
     "iopub.status.busy": "2025-03-04T16:55:34.193631Z",
     "iopub.status.idle": "2025-03-04T16:56:15.023282Z",
     "shell.execute_reply": "2025-03-04T16:56:15.023005Z"
    }
   },
   "outputs": [
    {
     "name": "stdout",
     "output_type": "stream",
     "text": [
      "Initial parameters:  {'k_alpha': 0.5, 'k_sigma': 0.25, 'obs_var': 0.001}\n",
      "data parameters:  {'k_alpha': 0.3, 'k_sigma': 0.5, 'obs_var': 0.001}\n"
     ]
    },
    {
     "name": "stderr",
     "output_type": "stream",
     "text": [
      "\r",
      "  0%|                                                                                                                                                                                                 | 0/1200 [00:00<?, ?it/s]"
     ]
    },
    {
     "name": "stderr",
     "output_type": "stream",
     "text": [
      "\r",
      "  0%|▎                                                                                                                                                                                        | 2/1200 [00:00<01:07, 17.79it/s]"
     ]
    },
    {
     "name": "stderr",
     "output_type": "stream",
     "text": [
      "\r",
      "  0%|▉                                                                                                                                                                                        | 6/1200 [00:00<00:45, 26.00it/s]"
     ]
    },
    {
     "name": "stderr",
     "output_type": "stream",
     "text": [
      "\r",
      "  1%|█▌                                                                                                                                                                                      | 10/1200 [00:00<00:41, 28.41it/s]"
     ]
    },
    {
     "name": "stderr",
     "output_type": "stream",
     "text": [
      "\r",
      "  1%|██▏                                                                                                                                                                                     | 14/1200 [00:00<00:40, 29.38it/s]"
     ]
    },
    {
     "name": "stderr",
     "output_type": "stream",
     "text": [
      "\r",
      "  2%|██▊                                                                                                                                                                                     | 18/1200 [00:00<00:39, 29.97it/s]"
     ]
    },
    {
     "name": "stderr",
     "output_type": "stream",
     "text": [
      "\r",
      "  2%|███▎                                                                                                                                                                                    | 22/1200 [00:00<00:38, 30.31it/s]"
     ]
    },
    {
     "name": "stderr",
     "output_type": "stream",
     "text": [
      "\r",
      "  2%|███▉                                                                                                                                                                                    | 26/1200 [00:00<00:38, 30.71it/s]"
     ]
    },
    {
     "name": "stderr",
     "output_type": "stream",
     "text": [
      "\r",
      "  2%|████▌                                                                                                                                                                                   | 30/1200 [00:01<00:37, 30.98it/s]"
     ]
    },
    {
     "name": "stderr",
     "output_type": "stream",
     "text": [
      "\r",
      "  3%|█████▏                                                                                                                                                                                  | 34/1200 [00:01<00:37, 31.01it/s]"
     ]
    },
    {
     "name": "stderr",
     "output_type": "stream",
     "text": [
      "\r",
      "  3%|█████▊                                                                                                                                                                                  | 38/1200 [00:01<00:37, 31.09it/s]"
     ]
    },
    {
     "name": "stderr",
     "output_type": "stream",
     "text": [
      "\r",
      "  4%|██████▍                                                                                                                                                                                 | 42/1200 [00:01<00:37, 31.24it/s]"
     ]
    },
    {
     "name": "stderr",
     "output_type": "stream",
     "text": [
      "\r",
      "  4%|███████                                                                                                                                                                                 | 46/1200 [00:01<00:36, 31.35it/s]"
     ]
    },
    {
     "name": "stderr",
     "output_type": "stream",
     "text": [
      "\r",
      "  4%|███████▋                                                                                                                                                                                | 50/1200 [00:01<00:36, 31.44it/s]"
     ]
    },
    {
     "name": "stderr",
     "output_type": "stream",
     "text": [
      "\r",
      "  4%|████████▎                                                                                                                                                                               | 54/1200 [00:01<00:36, 31.37it/s]"
     ]
    },
    {
     "name": "stderr",
     "output_type": "stream",
     "text": [
      "\r",
      "  5%|████████▉                                                                                                                                                                               | 58/1200 [00:01<00:36, 31.32it/s]"
     ]
    },
    {
     "name": "stderr",
     "output_type": "stream",
     "text": [
      "\r",
      "  5%|█████████▌                                                                                                                                                                              | 62/1200 [00:02<00:36, 31.37it/s]"
     ]
    },
    {
     "name": "stderr",
     "output_type": "stream",
     "text": [
      "\r",
      "  6%|██████████                                                                                                                                                                              | 66/1200 [00:02<00:36, 31.29it/s]"
     ]
    },
    {
     "name": "stderr",
     "output_type": "stream",
     "text": [
      "\r",
      "  6%|██████████▋                                                                                                                                                                             | 70/1200 [00:02<00:36, 31.32it/s]"
     ]
    },
    {
     "name": "stderr",
     "output_type": "stream",
     "text": [
      "\r",
      "  6%|███████████▎                                                                                                                                                                            | 74/1200 [00:02<00:36, 31.26it/s]"
     ]
    },
    {
     "name": "stderr",
     "output_type": "stream",
     "text": [
      "\r",
      "  6%|███████████▉                                                                                                                                                                            | 78/1200 [00:02<00:36, 31.15it/s]"
     ]
    },
    {
     "name": "stderr",
     "output_type": "stream",
     "text": [
      "\r",
      "  7%|████████████▌                                                                                                                                                                           | 82/1200 [00:02<00:35, 31.12it/s]"
     ]
    },
    {
     "name": "stderr",
     "output_type": "stream",
     "text": [
      "\r",
      "  7%|█████████████▏                                                                                                                                                                          | 86/1200 [00:02<00:35, 31.08it/s]"
     ]
    },
    {
     "name": "stderr",
     "output_type": "stream",
     "text": [
      "\r",
      "  8%|█████████████▊                                                                                                                                                                          | 90/1200 [00:02<00:35, 31.20it/s]"
     ]
    },
    {
     "name": "stderr",
     "output_type": "stream",
     "text": [
      "\r",
      "  8%|██████████████▍                                                                                                                                                                         | 94/1200 [00:03<00:35, 31.26it/s]"
     ]
    },
    {
     "name": "stderr",
     "output_type": "stream",
     "text": [
      "\r",
      "  8%|███████████████                                                                                                                                                                         | 98/1200 [00:03<00:35, 31.10it/s]"
     ]
    },
    {
     "name": "stderr",
     "output_type": "stream",
     "text": [
      "\r",
      "  8%|███████████████▌                                                                                                                                                                       | 102/1200 [00:03<00:35, 31.32it/s]"
     ]
    },
    {
     "name": "stderr",
     "output_type": "stream",
     "text": [
      "\r",
      "  9%|████████████████▏                                                                                                                                                                      | 106/1200 [00:03<00:34, 31.47it/s]"
     ]
    },
    {
     "name": "stderr",
     "output_type": "stream",
     "text": [
      "\r",
      "  9%|████████████████▊                                                                                                                                                                      | 110/1200 [00:03<00:34, 31.49it/s]"
     ]
    },
    {
     "name": "stderr",
     "output_type": "stream",
     "text": [
      "\r",
      " 10%|█████████████████▍                                                                                                                                                                     | 114/1200 [00:03<00:34, 31.58it/s]"
     ]
    },
    {
     "name": "stderr",
     "output_type": "stream",
     "text": [
      "\r",
      " 10%|█████████████████▉                                                                                                                                                                     | 118/1200 [00:03<00:34, 31.59it/s]"
     ]
    },
    {
     "name": "stderr",
     "output_type": "stream",
     "text": [
      "\r",
      " 10%|██████████████████▌                                                                                                                                                                    | 122/1200 [00:03<00:34, 31.60it/s]"
     ]
    },
    {
     "name": "stderr",
     "output_type": "stream",
     "text": [
      "\r",
      " 10%|███████████████████▏                                                                                                                                                                   | 126/1200 [00:04<00:33, 31.66it/s]"
     ]
    },
    {
     "name": "stderr",
     "output_type": "stream",
     "text": [
      "\r",
      " 11%|███████████████████▊                                                                                                                                                                   | 130/1200 [00:04<00:33, 31.65it/s]"
     ]
    },
    {
     "name": "stderr",
     "output_type": "stream",
     "text": [
      "\r",
      " 11%|████████████████████▍                                                                                                                                                                  | 134/1200 [00:04<00:33, 31.82it/s]"
     ]
    },
    {
     "name": "stderr",
     "output_type": "stream",
     "text": [
      "\r",
      " 12%|█████████████████████                                                                                                                                                                  | 138/1200 [00:04<00:33, 31.87it/s]"
     ]
    },
    {
     "name": "stderr",
     "output_type": "stream",
     "text": [
      "\r",
      " 12%|█████████████████████▋                                                                                                                                                                 | 142/1200 [00:04<00:33, 31.80it/s]"
     ]
    },
    {
     "name": "stderr",
     "output_type": "stream",
     "text": [
      "\r",
      " 12%|██████████████████████▎                                                                                                                                                                | 146/1200 [00:04<00:33, 31.88it/s]"
     ]
    },
    {
     "name": "stderr",
     "output_type": "stream",
     "text": [
      "\r",
      " 12%|██████████████████████▉                                                                                                                                                                | 150/1200 [00:04<00:32, 31.99it/s]"
     ]
    },
    {
     "name": "stderr",
     "output_type": "stream",
     "text": [
      "\r",
      " 13%|███████████████████████▍                                                                                                                                                               | 154/1200 [00:04<00:32, 31.87it/s]"
     ]
    },
    {
     "name": "stderr",
     "output_type": "stream",
     "text": [
      "\r",
      " 13%|████████████████████████                                                                                                                                                               | 158/1200 [00:05<00:32, 31.93it/s]"
     ]
    },
    {
     "name": "stderr",
     "output_type": "stream",
     "text": [
      "\r",
      " 14%|████████████████████████▋                                                                                                                                                              | 162/1200 [00:05<00:32, 31.60it/s]"
     ]
    },
    {
     "name": "stderr",
     "output_type": "stream",
     "text": [
      "\r",
      " 14%|█████████████████████████▎                                                                                                                                                             | 166/1200 [00:05<00:32, 31.47it/s]"
     ]
    },
    {
     "name": "stderr",
     "output_type": "stream",
     "text": [
      "\r",
      " 14%|█████████████████████████▉                                                                                                                                                             | 170/1200 [00:05<00:32, 31.59it/s]"
     ]
    },
    {
     "name": "stderr",
     "output_type": "stream",
     "text": [
      "\r",
      " 14%|██████████████████████████▌                                                                                                                                                            | 174/1200 [00:05<00:32, 31.64it/s]"
     ]
    },
    {
     "name": "stderr",
     "output_type": "stream",
     "text": [
      "\r",
      " 15%|███████████████████████████▏                                                                                                                                                           | 178/1200 [00:05<00:32, 31.70it/s]"
     ]
    },
    {
     "name": "stderr",
     "output_type": "stream",
     "text": [
      "\r",
      " 15%|███████████████████████████▊                                                                                                                                                           | 182/1200 [00:05<00:32, 31.72it/s]"
     ]
    },
    {
     "name": "stderr",
     "output_type": "stream",
     "text": [
      "\r",
      " 16%|████████████████████████████▎                                                                                                                                                          | 186/1200 [00:05<00:31, 31.83it/s]"
     ]
    },
    {
     "name": "stderr",
     "output_type": "stream",
     "text": [
      "\r",
      " 16%|████████████████████████████▉                                                                                                                                                          | 190/1200 [00:06<00:31, 31.83it/s]"
     ]
    },
    {
     "name": "stderr",
     "output_type": "stream",
     "text": [
      "\r",
      " 16%|█████████████████████████████▌                                                                                                                                                         | 194/1200 [00:06<00:31, 31.91it/s]"
     ]
    },
    {
     "name": "stderr",
     "output_type": "stream",
     "text": [
      "\r",
      " 16%|██████████████████████████████▏                                                                                                                                                        | 198/1200 [00:06<00:31, 31.84it/s]"
     ]
    },
    {
     "name": "stderr",
     "output_type": "stream",
     "text": [
      "\r",
      " 17%|██████████████████████████████▊                                                                                                                                                        | 202/1200 [00:06<00:31, 31.86it/s]"
     ]
    },
    {
     "name": "stderr",
     "output_type": "stream",
     "text": [
      "\r",
      " 17%|███████████████████████████████▍                                                                                                                                                       | 206/1200 [00:06<00:31, 31.84it/s]"
     ]
    },
    {
     "name": "stderr",
     "output_type": "stream",
     "text": [
      "\r",
      " 18%|████████████████████████████████                                                                                                                                                       | 210/1200 [00:06<00:31, 31.83it/s]"
     ]
    },
    {
     "name": "stderr",
     "output_type": "stream",
     "text": [
      "\r",
      " 18%|████████████████████████████████▋                                                                                                                                                      | 214/1200 [00:06<00:31, 31.53it/s]"
     ]
    },
    {
     "name": "stderr",
     "output_type": "stream",
     "text": [
      "\r",
      " 18%|█████████████████████████████████▏                                                                                                                                                     | 218/1200 [00:06<00:31, 31.46it/s]"
     ]
    },
    {
     "name": "stderr",
     "output_type": "stream",
     "text": [
      "\r",
      " 18%|█████████████████████████████████▊                                                                                                                                                     | 222/1200 [00:07<00:31, 31.51it/s]"
     ]
    },
    {
     "name": "stderr",
     "output_type": "stream",
     "text": [
      "\r",
      " 19%|██████████████████████████████████▍                                                                                                                                                    | 226/1200 [00:07<00:30, 31.57it/s]"
     ]
    },
    {
     "name": "stderr",
     "output_type": "stream",
     "text": [
      "\r",
      " 19%|███████████████████████████████████                                                                                                                                                    | 230/1200 [00:07<00:30, 31.65it/s]"
     ]
    },
    {
     "name": "stderr",
     "output_type": "stream",
     "text": [
      "\r",
      " 20%|███████████████████████████████████▋                                                                                                                                                   | 234/1200 [00:07<00:30, 31.64it/s]"
     ]
    },
    {
     "name": "stderr",
     "output_type": "stream",
     "text": [
      "\r",
      " 20%|████████████████████████████████████▎                                                                                                                                                  | 238/1200 [00:07<00:30, 31.55it/s]"
     ]
    },
    {
     "name": "stderr",
     "output_type": "stream",
     "text": [
      "\r",
      " 20%|████████████████████████████████████▉                                                                                                                                                  | 242/1200 [00:07<00:30, 31.62it/s]"
     ]
    },
    {
     "name": "stderr",
     "output_type": "stream",
     "text": [
      "\r",
      " 20%|█████████████████████████████████████▌                                                                                                                                                 | 246/1200 [00:07<00:30, 31.63it/s]"
     ]
    },
    {
     "name": "stderr",
     "output_type": "stream",
     "text": [
      "\r",
      " 21%|██████████████████████████████████████▏                                                                                                                                                | 250/1200 [00:07<00:29, 31.70it/s]"
     ]
    },
    {
     "name": "stderr",
     "output_type": "stream",
     "text": [
      "\r",
      " 21%|██████████████████████████████████████▋                                                                                                                                                | 254/1200 [00:08<00:30, 31.35it/s]"
     ]
    },
    {
     "name": "stderr",
     "output_type": "stream",
     "text": [
      "\r",
      " 22%|███████████████████████████████████████▎                                                                                                                                               | 258/1200 [00:08<00:29, 31.42it/s]"
     ]
    },
    {
     "name": "stderr",
     "output_type": "stream",
     "text": [
      "\r",
      " 22%|███████████████████████████████████████▉                                                                                                                                               | 262/1200 [00:08<00:29, 31.47it/s]"
     ]
    },
    {
     "name": "stderr",
     "output_type": "stream",
     "text": [
      "\r",
      " 22%|████████████████████████████████████████▌                                                                                                                                              | 266/1200 [00:08<00:29, 31.55it/s]"
     ]
    },
    {
     "name": "stderr",
     "output_type": "stream",
     "text": [
      "\r",
      " 22%|█████████████████████████████████████████▏                                                                                                                                             | 270/1200 [00:08<00:29, 31.74it/s]"
     ]
    },
    {
     "name": "stderr",
     "output_type": "stream",
     "text": [
      "\r",
      " 23%|█████████████████████████████████████████▊                                                                                                                                             | 274/1200 [00:08<00:29, 31.82it/s]"
     ]
    },
    {
     "name": "stderr",
     "output_type": "stream",
     "text": [
      "\r",
      " 23%|██████████████████████████████████████████▍                                                                                                                                            | 278/1200 [00:08<00:28, 31.83it/s]"
     ]
    },
    {
     "name": "stderr",
     "output_type": "stream",
     "text": [
      "\r",
      " 24%|███████████████████████████████████████████                                                                                                                                            | 282/1200 [00:08<00:28, 31.81it/s]"
     ]
    },
    {
     "name": "stderr",
     "output_type": "stream",
     "text": [
      "\r",
      " 24%|███████████████████████████████████████████▌                                                                                                                                           | 286/1200 [00:09<00:28, 31.81it/s]"
     ]
    },
    {
     "name": "stderr",
     "output_type": "stream",
     "text": [
      "\r",
      " 24%|████████████████████████████████████████████▏                                                                                                                                          | 290/1200 [00:09<00:28, 31.81it/s]"
     ]
    },
    {
     "name": "stderr",
     "output_type": "stream",
     "text": [
      "\r",
      " 24%|████████████████████████████████████████████▊                                                                                                                                          | 294/1200 [00:09<00:28, 31.86it/s]"
     ]
    },
    {
     "name": "stderr",
     "output_type": "stream",
     "text": [
      "\r",
      " 25%|█████████████████████████████████████████████▍                                                                                                                                         | 298/1200 [00:09<00:28, 31.83it/s]"
     ]
    },
    {
     "name": "stderr",
     "output_type": "stream",
     "text": [
      "\r",
      " 25%|██████████████████████████████████████████████                                                                                                                                         | 302/1200 [00:09<00:28, 31.82it/s]"
     ]
    },
    {
     "name": "stderr",
     "output_type": "stream",
     "text": [
      "\r",
      " 26%|██████████████████████████████████████████████▋                                                                                                                                        | 306/1200 [00:09<00:28, 31.27it/s]"
     ]
    },
    {
     "name": "stderr",
     "output_type": "stream",
     "text": [
      "\r",
      " 26%|███████████████████████████████████████████████▎                                                                                                                                       | 310/1200 [00:09<00:28, 31.30it/s]"
     ]
    },
    {
     "name": "stderr",
     "output_type": "stream",
     "text": [
      "\r",
      " 26%|███████████████████████████████████████████████▉                                                                                                                                       | 314/1200 [00:10<00:28, 31.39it/s]"
     ]
    },
    {
     "name": "stderr",
     "output_type": "stream",
     "text": [
      "\r",
      " 26%|████████████████████████████████████████████████▍                                                                                                                                      | 318/1200 [00:10<00:28, 31.46it/s]"
     ]
    },
    {
     "name": "stderr",
     "output_type": "stream",
     "text": [
      "\r",
      " 27%|█████████████████████████████████████████████████                                                                                                                                      | 322/1200 [00:10<00:27, 31.50it/s]"
     ]
    },
    {
     "name": "stderr",
     "output_type": "stream",
     "text": [
      "\r",
      " 27%|█████████████████████████████████████████████████▋                                                                                                                                     | 326/1200 [00:10<00:28, 30.96it/s]"
     ]
    },
    {
     "name": "stderr",
     "output_type": "stream",
     "text": [
      "\r",
      " 28%|██████████████████████████████████████████████████▎                                                                                                                                    | 330/1200 [00:10<00:28, 31.05it/s]"
     ]
    },
    {
     "name": "stderr",
     "output_type": "stream",
     "text": [
      "\r",
      " 28%|██████████████████████████████████████████████████▉                                                                                                                                    | 334/1200 [00:10<00:27, 31.10it/s]"
     ]
    },
    {
     "name": "stderr",
     "output_type": "stream",
     "text": [
      "\r",
      " 28%|███████████████████████████████████████████████████▌                                                                                                                                   | 338/1200 [00:10<00:27, 31.31it/s]"
     ]
    },
    {
     "name": "stderr",
     "output_type": "stream",
     "text": [
      "\r",
      " 28%|████████████████████████████████████████████████████▏                                                                                                                                  | 342/1200 [00:10<00:27, 31.42it/s]"
     ]
    },
    {
     "name": "stderr",
     "output_type": "stream",
     "text": [
      "\r",
      " 29%|████████████████████████████████████████████████████▊                                                                                                                                  | 346/1200 [00:11<00:27, 31.46it/s]"
     ]
    },
    {
     "name": "stderr",
     "output_type": "stream",
     "text": [
      "\r",
      " 29%|█████████████████████████████████████████████████████▍                                                                                                                                 | 350/1200 [00:11<00:26, 31.49it/s]"
     ]
    },
    {
     "name": "stderr",
     "output_type": "stream",
     "text": [
      "\r",
      " 30%|█████████████████████████████████████████████████████▉                                                                                                                                 | 354/1200 [00:11<00:26, 31.52it/s]"
     ]
    },
    {
     "name": "stderr",
     "output_type": "stream",
     "text": [
      "\r",
      " 30%|██████████████████████████████████████████████████████▌                                                                                                                                | 358/1200 [00:11<00:26, 31.76it/s]"
     ]
    },
    {
     "name": "stderr",
     "output_type": "stream",
     "text": [
      "\r",
      " 30%|███████████████████████████████████████████████████████▏                                                                                                                               | 362/1200 [00:11<00:26, 31.78it/s]"
     ]
    },
    {
     "name": "stderr",
     "output_type": "stream",
     "text": [
      "\r",
      " 30%|███████████████████████████████████████████████████████▊                                                                                                                               | 366/1200 [00:11<00:26, 31.77it/s]"
     ]
    },
    {
     "name": "stderr",
     "output_type": "stream",
     "text": [
      "\r",
      " 31%|████████████████████████████████████████████████████████▍                                                                                                                              | 370/1200 [00:11<00:26, 31.76it/s]"
     ]
    },
    {
     "name": "stderr",
     "output_type": "stream",
     "text": [
      "\r",
      " 31%|█████████████████████████████████████████████████████████                                                                                                                              | 374/1200 [00:11<00:25, 31.78it/s]"
     ]
    },
    {
     "name": "stderr",
     "output_type": "stream",
     "text": [
      "\r",
      " 32%|█████████████████████████████████████████████████████████▋                                                                                                                             | 378/1200 [00:12<00:25, 31.68it/s]"
     ]
    },
    {
     "name": "stderr",
     "output_type": "stream",
     "text": [
      "\r",
      " 32%|██████████████████████████████████████████████████████████▎                                                                                                                            | 382/1200 [00:12<00:25, 31.69it/s]"
     ]
    },
    {
     "name": "stderr",
     "output_type": "stream",
     "text": [
      "\r",
      " 32%|██████████████████████████████████████████████████████████▊                                                                                                                            | 386/1200 [00:12<00:25, 31.79it/s]"
     ]
    },
    {
     "name": "stderr",
     "output_type": "stream",
     "text": [
      "\r",
      " 32%|███████████████████████████████████████████████████████████▍                                                                                                                           | 390/1200 [00:12<00:25, 31.85it/s]"
     ]
    },
    {
     "name": "stderr",
     "output_type": "stream",
     "text": [
      "\r",
      " 33%|████████████████████████████████████████████████████████████                                                                                                                           | 394/1200 [00:12<00:25, 31.79it/s]"
     ]
    },
    {
     "name": "stderr",
     "output_type": "stream",
     "text": [
      "\r",
      " 33%|████████████████████████████████████████████████████████████▋                                                                                                                          | 398/1200 [00:12<00:25, 31.89it/s]"
     ]
    },
    {
     "name": "stderr",
     "output_type": "stream",
     "text": [
      "\r",
      " 34%|█████████████████████████████████████████████████████████████▎                                                                                                                         | 402/1200 [00:12<00:24, 31.98it/s]"
     ]
    },
    {
     "name": "stderr",
     "output_type": "stream",
     "text": [
      "\r",
      " 34%|█████████████████████████████████████████████████████████████▉                                                                                                                         | 406/1200 [00:12<00:24, 32.09it/s]"
     ]
    },
    {
     "name": "stderr",
     "output_type": "stream",
     "text": [
      "\r",
      " 34%|██████████████████████████████████████████████████████████████▌                                                                                                                        | 410/1200 [00:13<00:24, 31.99it/s]"
     ]
    },
    {
     "name": "stderr",
     "output_type": "stream",
     "text": [
      "\r",
      " 34%|███████████████████████████████████████████████████████████████▏                                                                                                                       | 414/1200 [00:13<00:24, 32.06it/s]"
     ]
    },
    {
     "name": "stderr",
     "output_type": "stream",
     "text": [
      "\r",
      " 35%|███████████████████████████████████████████████████████████████▋                                                                                                                       | 418/1200 [00:13<00:24, 32.01it/s]"
     ]
    },
    {
     "name": "stderr",
     "output_type": "stream",
     "text": [
      "\r",
      " 35%|████████████████████████████████████████████████████████████████▎                                                                                                                      | 422/1200 [00:13<00:24, 32.02it/s]"
     ]
    },
    {
     "name": "stderr",
     "output_type": "stream",
     "text": [
      "\r",
      " 36%|████████████████████████████████████████████████████████████████▉                                                                                                                      | 426/1200 [00:13<00:24, 32.05it/s]"
     ]
    },
    {
     "name": "stderr",
     "output_type": "stream",
     "text": [
      "\r",
      " 36%|█████████████████████████████████████████████████████████████████▌                                                                                                                     | 430/1200 [00:13<00:24, 32.03it/s]"
     ]
    },
    {
     "name": "stderr",
     "output_type": "stream",
     "text": [
      "\r",
      " 36%|██████████████████████████████████████████████████████████████████▏                                                                                                                    | 434/1200 [00:13<00:24, 31.23it/s]"
     ]
    },
    {
     "name": "stderr",
     "output_type": "stream",
     "text": [
      "\r",
      " 36%|██████████████████████████████████████████████████████████████████▊                                                                                                                    | 438/1200 [00:13<00:24, 30.95it/s]"
     ]
    },
    {
     "name": "stderr",
     "output_type": "stream",
     "text": [
      "\r",
      " 37%|███████████████████████████████████████████████████████████████████▍                                                                                                                   | 442/1200 [00:14<00:24, 31.14it/s]"
     ]
    },
    {
     "name": "stderr",
     "output_type": "stream",
     "text": [
      "\r",
      " 37%|████████████████████████████████████████████████████████████████████                                                                                                                   | 446/1200 [00:14<00:23, 31.42it/s]"
     ]
    },
    {
     "name": "stderr",
     "output_type": "stream",
     "text": [
      "\r",
      " 38%|████████████████████████████████████████████████████████████████████▋                                                                                                                  | 450/1200 [00:14<00:23, 31.58it/s]"
     ]
    },
    {
     "name": "stderr",
     "output_type": "stream",
     "text": [
      "\r",
      " 38%|█████████████████████████████████████████████████████████████████████▏                                                                                                                 | 454/1200 [00:14<00:23, 31.69it/s]"
     ]
    },
    {
     "name": "stderr",
     "output_type": "stream",
     "text": [
      "\r",
      " 38%|█████████████████████████████████████████████████████████████████████▊                                                                                                                 | 458/1200 [00:14<00:23, 31.73it/s]"
     ]
    },
    {
     "name": "stderr",
     "output_type": "stream",
     "text": [
      "\r",
      " 38%|██████████████████████████████████████████████████████████████████████▍                                                                                                                | 462/1200 [00:14<00:23, 31.89it/s]"
     ]
    },
    {
     "name": "stderr",
     "output_type": "stream",
     "text": [
      "\r",
      " 39%|███████████████████████████████████████████████████████████████████████                                                                                                                | 466/1200 [00:14<00:22, 32.03it/s]"
     ]
    },
    {
     "name": "stderr",
     "output_type": "stream",
     "text": [
      "\r",
      " 39%|███████████████████████████████████████████████████████████████████████▋                                                                                                               | 470/1200 [00:14<00:22, 32.08it/s]"
     ]
    },
    {
     "name": "stderr",
     "output_type": "stream",
     "text": [
      "\r",
      " 40%|████████████████████████████████████████████████████████████████████████▎                                                                                                              | 474/1200 [00:15<00:22, 31.99it/s]"
     ]
    },
    {
     "name": "stderr",
     "output_type": "stream",
     "text": [
      "\r",
      " 40%|████████████████████████████████████████████████████████████████████████▉                                                                                                              | 478/1200 [00:15<00:22, 31.64it/s]"
     ]
    },
    {
     "name": "stderr",
     "output_type": "stream",
     "text": [
      "\r",
      " 40%|█████████████████████████████████████████████████████████████████████████▌                                                                                                             | 482/1200 [00:15<00:22, 31.69it/s]"
     ]
    },
    {
     "name": "stderr",
     "output_type": "stream",
     "text": [
      "\r",
      " 40%|██████████████████████████████████████████████████████████████████████████                                                                                                             | 486/1200 [00:15<00:22, 31.26it/s]"
     ]
    },
    {
     "name": "stderr",
     "output_type": "stream",
     "text": [
      "\r",
      " 41%|██████████████████████████████████████████████████████████████████████████▋                                                                                                            | 490/1200 [00:15<00:22, 31.41it/s]"
     ]
    },
    {
     "name": "stderr",
     "output_type": "stream",
     "text": [
      "\r",
      " 41%|███████████████████████████████████████████████████████████████████████████▎                                                                                                           | 494/1200 [00:15<00:22, 31.42it/s]"
     ]
    },
    {
     "name": "stderr",
     "output_type": "stream",
     "text": [
      "\r",
      " 42%|███████████████████████████████████████████████████████████████████████████▉                                                                                                           | 498/1200 [00:15<00:22, 31.38it/s]"
     ]
    },
    {
     "name": "stderr",
     "output_type": "stream",
     "text": [
      "\r",
      " 42%|████████████████████████████████████████████████████████████████████████████▌                                                                                                          | 502/1200 [00:15<00:22, 31.45it/s]"
     ]
    },
    {
     "name": "stderr",
     "output_type": "stream",
     "text": [
      "\r",
      " 42%|█████████████████████████████████████████████████████████████████████████████▏                                                                                                         | 506/1200 [00:16<00:22, 31.51it/s]"
     ]
    },
    {
     "name": "stderr",
     "output_type": "stream",
     "text": [
      "\r",
      " 42%|█████████████████████████████████████████████████████████████████████████████▊                                                                                                         | 510/1200 [00:16<00:21, 31.65it/s]"
     ]
    },
    {
     "name": "stderr",
     "output_type": "stream",
     "text": [
      "\r",
      " 43%|██████████████████████████████████████████████████████████████████████████████▍                                                                                                        | 514/1200 [00:16<00:21, 31.64it/s]"
     ]
    },
    {
     "name": "stderr",
     "output_type": "stream",
     "text": [
      "\r",
      " 43%|██████████████████████████████████████████████████████████████████████████████▉                                                                                                        | 518/1200 [00:16<00:21, 31.01it/s]"
     ]
    },
    {
     "name": "stderr",
     "output_type": "stream",
     "text": [
      "\r",
      " 44%|███████████████████████████████████████████████████████████████████████████████▌                                                                                                       | 522/1200 [00:16<00:21, 31.28it/s]"
     ]
    },
    {
     "name": "stderr",
     "output_type": "stream",
     "text": [
      "\r",
      " 44%|████████████████████████████████████████████████████████████████████████████████▏                                                                                                      | 526/1200 [00:16<00:21, 31.60it/s]"
     ]
    },
    {
     "name": "stderr",
     "output_type": "stream",
     "text": [
      "\r",
      " 44%|████████████████████████████████████████████████████████████████████████████████▊                                                                                                      | 530/1200 [00:16<00:21, 30.92it/s]"
     ]
    },
    {
     "name": "stderr",
     "output_type": "stream",
     "text": [
      "\r",
      " 44%|█████████████████████████████████████████████████████████████████████████████████▍                                                                                                     | 534/1200 [00:16<00:21, 31.01it/s]"
     ]
    },
    {
     "name": "stderr",
     "output_type": "stream",
     "text": [
      "\r",
      " 45%|██████████████████████████████████████████████████████████████████████████████████                                                                                                     | 538/1200 [00:17<00:21, 31.16it/s]"
     ]
    },
    {
     "name": "stderr",
     "output_type": "stream",
     "text": [
      "\r",
      " 45%|██████████████████████████████████████████████████████████████████████████████████▋                                                                                                    | 542/1200 [00:17<00:21, 31.33it/s]"
     ]
    },
    {
     "name": "stderr",
     "output_type": "stream",
     "text": [
      "\r",
      " 46%|███████████████████████████████████████████████████████████████████████████████████▎                                                                                                   | 546/1200 [00:17<00:20, 31.50it/s]"
     ]
    },
    {
     "name": "stderr",
     "output_type": "stream",
     "text": [
      "\r",
      " 46%|███████████████████████████████████████████████████████████████████████████████████▉                                                                                                   | 550/1200 [00:17<00:20, 31.63it/s]"
     ]
    },
    {
     "name": "stderr",
     "output_type": "stream",
     "text": [
      "\r",
      " 46%|████████████████████████████████████████████████████████████████████████████████████▍                                                                                                  | 554/1200 [00:17<00:20, 31.72it/s]"
     ]
    },
    {
     "name": "stderr",
     "output_type": "stream",
     "text": [
      "\r",
      " 46%|█████████████████████████████████████████████████████████████████████████████████████                                                                                                  | 558/1200 [00:17<00:20, 31.67it/s]"
     ]
    },
    {
     "name": "stderr",
     "output_type": "stream",
     "text": [
      "\r",
      " 47%|█████████████████████████████████████████████████████████████████████████████████████▋                                                                                                 | 562/1200 [00:17<00:20, 31.71it/s]"
     ]
    },
    {
     "name": "stderr",
     "output_type": "stream",
     "text": [
      "\r",
      " 47%|██████████████████████████████████████████████████████████████████████████████████████▎                                                                                                | 566/1200 [00:17<00:19, 31.71it/s]"
     ]
    },
    {
     "name": "stderr",
     "output_type": "stream",
     "text": [
      "\r",
      " 48%|██████████████████████████████████████████████████████████████████████████████████████▉                                                                                                | 570/1200 [00:18<00:19, 31.73it/s]"
     ]
    },
    {
     "name": "stderr",
     "output_type": "stream",
     "text": [
      "\r",
      " 48%|███████████████████████████████████████████████████████████████████████████████████████▌                                                                                               | 574/1200 [00:18<00:19, 31.76it/s]"
     ]
    },
    {
     "name": "stderr",
     "output_type": "stream",
     "text": [
      "\r",
      " 48%|████████████████████████████████████████████████████████████████████████████████████████▏                                                                                              | 578/1200 [00:18<00:19, 31.74it/s]"
     ]
    },
    {
     "name": "stderr",
     "output_type": "stream",
     "text": [
      "\r",
      " 48%|████████████████████████████████████████████████████████████████████████████████████████▊                                                                                              | 582/1200 [00:18<00:19, 31.78it/s]"
     ]
    },
    {
     "name": "stderr",
     "output_type": "stream",
     "text": [
      "\r",
      " 49%|█████████████████████████████████████████████████████████████████████████████████████████▎                                                                                             | 586/1200 [00:18<00:19, 31.67it/s]"
     ]
    },
    {
     "name": "stderr",
     "output_type": "stream",
     "text": [
      "\r",
      " 49%|█████████████████████████████████████████████████████████████████████████████████████████▉                                                                                             | 590/1200 [00:18<00:19, 31.67it/s]"
     ]
    },
    {
     "name": "stderr",
     "output_type": "stream",
     "text": [
      "\r",
      " 50%|██████████████████████████████████████████████████████████████████████████████████████████▌                                                                                            | 594/1200 [00:18<00:19, 31.68it/s]"
     ]
    },
    {
     "name": "stderr",
     "output_type": "stream",
     "text": [
      "\r",
      " 50%|███████████████████████████████████████████████████████████████████████████████████████████▏                                                                                           | 598/1200 [00:18<00:18, 31.84it/s]"
     ]
    },
    {
     "name": "stderr",
     "output_type": "stream",
     "text": [
      "\r",
      " 50%|███████████████████████████████████████████████████████████████████████████████████████████▊                                                                                           | 602/1200 [00:19<00:18, 31.86it/s]"
     ]
    },
    {
     "name": "stderr",
     "output_type": "stream",
     "text": [
      "\r",
      " 50%|████████████████████████████████████████████████████████████████████████████████████████████▍                                                                                          | 606/1200 [00:19<00:18, 31.76it/s]"
     ]
    },
    {
     "name": "stderr",
     "output_type": "stream",
     "text": [
      "\r",
      " 51%|█████████████████████████████████████████████████████████████████████████████████████████████                                                                                          | 610/1200 [00:19<00:18, 31.81it/s]"
     ]
    },
    {
     "name": "stderr",
     "output_type": "stream",
     "text": [
      "\r",
      " 51%|█████████████████████████████████████████████████████████████████████████████████████████████▋                                                                                         | 614/1200 [00:19<00:18, 31.72it/s]"
     ]
    },
    {
     "name": "stderr",
     "output_type": "stream",
     "text": [
      "\r",
      " 52%|██████████████████████████████████████████████████████████████████████████████████████████████▏                                                                                        | 618/1200 [00:19<00:18, 31.97it/s]"
     ]
    },
    {
     "name": "stderr",
     "output_type": "stream",
     "text": [
      "\r",
      " 52%|██████████████████████████████████████████████████████████████████████████████████████████████▊                                                                                        | 622/1200 [00:19<00:18, 31.94it/s]"
     ]
    },
    {
     "name": "stderr",
     "output_type": "stream",
     "text": [
      "\r",
      " 52%|███████████████████████████████████████████████████████████████████████████████████████████████▍                                                                                       | 626/1200 [00:19<00:18, 31.55it/s]"
     ]
    },
    {
     "name": "stderr",
     "output_type": "stream",
     "text": [
      "\r",
      " 52%|████████████████████████████████████████████████████████████████████████████████████████████████                                                                                       | 630/1200 [00:19<00:18, 31.42it/s]"
     ]
    },
    {
     "name": "stderr",
     "output_type": "stream",
     "text": [
      "\r",
      " 53%|████████████████████████████████████████████████████████████████████████████████████████████████▋                                                                                      | 634/1200 [00:20<00:17, 31.61it/s]"
     ]
    },
    {
     "name": "stderr",
     "output_type": "stream",
     "text": [
      "\r",
      " 53%|█████████████████████████████████████████████████████████████████████████████████████████████████▎                                                                                     | 638/1200 [00:20<00:17, 31.69it/s]"
     ]
    },
    {
     "name": "stderr",
     "output_type": "stream",
     "text": [
      "\r",
      " 54%|█████████████████████████████████████████████████████████████████████████████████████████████████▉                                                                                     | 642/1200 [00:20<00:17, 31.79it/s]"
     ]
    },
    {
     "name": "stderr",
     "output_type": "stream",
     "text": [
      "\r",
      " 54%|██████████████████████████████████████████████████████████████████████████████████████████████████▌                                                                                    | 646/1200 [00:20<00:17, 31.79it/s]"
     ]
    },
    {
     "name": "stderr",
     "output_type": "stream",
     "text": [
      "\r",
      " 54%|███████████████████████████████████████████████████████████████████████████████████████████████████▏                                                                                   | 650/1200 [00:20<00:17, 31.61it/s]"
     ]
    },
    {
     "name": "stderr",
     "output_type": "stream",
     "text": [
      "\r",
      " 55%|███████████████████████████████████████████████████████████████████████████████████████████████████▋                                                                                   | 654/1200 [00:20<00:17, 31.67it/s]"
     ]
    },
    {
     "name": "stderr",
     "output_type": "stream",
     "text": [
      "\r",
      " 55%|████████████████████████████████████████████████████████████████████████████████████████████████████▎                                                                                  | 658/1200 [00:20<00:17, 31.68it/s]"
     ]
    },
    {
     "name": "stderr",
     "output_type": "stream",
     "text": [
      "\r",
      " 55%|████████████████████████████████████████████████████████████████████████████████████████████████████▉                                                                                  | 662/1200 [00:21<00:17, 31.27it/s]"
     ]
    },
    {
     "name": "stderr",
     "output_type": "stream",
     "text": [
      "\r",
      " 56%|█████████████████████████████████████████████████████████████████████████████████████████████████████▌                                                                                 | 666/1200 [00:21<00:17, 31.22it/s]"
     ]
    },
    {
     "name": "stderr",
     "output_type": "stream",
     "text": [
      "\r",
      " 56%|██████████████████████████████████████████████████████████████████████████████████████████████████████▏                                                                                | 670/1200 [00:21<00:16, 31.31it/s]"
     ]
    },
    {
     "name": "stderr",
     "output_type": "stream",
     "text": [
      "\r",
      " 56%|██████████████████████████████████████████████████████████████████████████████████████████████████████▊                                                                                | 674/1200 [00:21<00:16, 31.38it/s]"
     ]
    },
    {
     "name": "stderr",
     "output_type": "stream",
     "text": [
      "\r",
      " 56%|███████████████████████████████████████████████████████████████████████████████████████████████████████▍                                                                               | 678/1200 [00:21<00:16, 31.58it/s]"
     ]
    },
    {
     "name": "stderr",
     "output_type": "stream",
     "text": [
      "\r",
      " 57%|████████████████████████████████████████████████████████████████████████████████████████████████████████                                                                               | 682/1200 [00:21<00:16, 31.62it/s]"
     ]
    },
    {
     "name": "stderr",
     "output_type": "stream",
     "text": [
      "\r",
      " 57%|████████████████████████████████████████████████████████████████████████████████████████████████████████▌                                                                              | 686/1200 [00:21<00:16, 31.54it/s]"
     ]
    },
    {
     "name": "stderr",
     "output_type": "stream",
     "text": [
      "\r",
      " 57%|█████████████████████████████████████████████████████████████████████████████████████████████████████████▏                                                                             | 690/1200 [00:21<00:16, 31.73it/s]"
     ]
    },
    {
     "name": "stderr",
     "output_type": "stream",
     "text": [
      "\r",
      " 58%|█████████████████████████████████████████████████████████████████████████████████████████████████████████▊                                                                             | 694/1200 [00:22<00:15, 31.85it/s]"
     ]
    },
    {
     "name": "stderr",
     "output_type": "stream",
     "text": [
      "\r",
      " 58%|██████████████████████████████████████████████████████████████████████████████████████████████████████████▍                                                                            | 698/1200 [00:22<00:15, 31.83it/s]"
     ]
    },
    {
     "name": "stderr",
     "output_type": "stream",
     "text": [
      "\r",
      " 58%|███████████████████████████████████████████████████████████████████████████████████████████████████████████                                                                            | 702/1200 [00:22<00:15, 31.95it/s]"
     ]
    },
    {
     "name": "stderr",
     "output_type": "stream",
     "text": [
      "\r",
      " 59%|███████████████████████████████████████████████████████████████████████████████████████████████████████████▋                                                                           | 706/1200 [00:22<00:15, 32.03it/s]"
     ]
    },
    {
     "name": "stderr",
     "output_type": "stream",
     "text": [
      "\r",
      " 59%|████████████████████████████████████████████████████████████████████████████████████████████████████████████▎                                                                          | 710/1200 [00:22<00:15, 32.02it/s]"
     ]
    },
    {
     "name": "stderr",
     "output_type": "stream",
     "text": [
      "\r",
      " 60%|████████████████████████████████████████████████████████████████████████████████████████████████████████████▉                                                                          | 714/1200 [00:22<00:15, 32.27it/s]"
     ]
    },
    {
     "name": "stderr",
     "output_type": "stream",
     "text": [
      "\r",
      " 60%|█████████████████████████████████████████████████████████████████████████████████████████████████████████████▍                                                                         | 718/1200 [00:22<00:14, 32.25it/s]"
     ]
    },
    {
     "name": "stderr",
     "output_type": "stream",
     "text": [
      "\r",
      " 60%|██████████████████████████████████████████████████████████████████████████████████████████████████████████████                                                                         | 722/1200 [00:22<00:14, 32.21it/s]"
     ]
    },
    {
     "name": "stderr",
     "output_type": "stream",
     "text": [
      "\r",
      " 60%|██████████████████████████████████████████████████████████████████████████████████████████████████████████████▋                                                                        | 726/1200 [00:23<00:14, 31.70it/s]"
     ]
    },
    {
     "name": "stderr",
     "output_type": "stream",
     "text": [
      "\r",
      " 61%|███████████████████████████████████████████████████████████████████████████████████████████████████████████████▎                                                                       | 730/1200 [00:23<00:15, 29.90it/s]"
     ]
    },
    {
     "name": "stderr",
     "output_type": "stream",
     "text": [
      "\r",
      " 61%|███████████████████████████████████████████████████████████████████████████████████████████████████████████████▉                                                                       | 734/1200 [00:23<00:16, 28.43it/s]"
     ]
    },
    {
     "name": "stderr",
     "output_type": "stream",
     "text": [
      "\r",
      " 61%|████████████████████████████████████████████████████████████████████████████████████████████████████████████████▍                                                                      | 737/1200 [00:23<00:16, 27.68it/s]"
     ]
    },
    {
     "name": "stderr",
     "output_type": "stream",
     "text": [
      "\r",
      " 62%|████████████████████████████████████████████████████████████████████████████████████████████████████████████████▊                                                                      | 740/1200 [00:23<00:16, 27.53it/s]"
     ]
    },
    {
     "name": "stderr",
     "output_type": "stream",
     "text": [
      "\r",
      " 62%|█████████████████████████████████████████████████████████████████████████████████████████████████████████████████▎                                                                     | 743/1200 [00:23<00:16, 27.44it/s]"
     ]
    },
    {
     "name": "stderr",
     "output_type": "stream",
     "text": [
      "\r",
      " 62%|█████████████████████████████████████████████████████████████████████████████████████████████████████████████████▊                                                                     | 746/1200 [00:23<00:16, 27.57it/s]"
     ]
    },
    {
     "name": "stderr",
     "output_type": "stream",
     "text": [
      "\r",
      " 62%|██████████████████████████████████████████████████████████████████████████████████████████████████████████████████▏                                                                    | 749/1200 [00:23<00:16, 27.99it/s]"
     ]
    },
    {
     "name": "stderr",
     "output_type": "stream",
     "text": [
      "\r",
      " 63%|██████████████████████████████████████████████████████████████████████████████████████████████████████████████████▋                                                                    | 752/1200 [00:23<00:16, 27.84it/s]"
     ]
    },
    {
     "name": "stderr",
     "output_type": "stream",
     "text": [
      "\r",
      " 63%|███████████████████████████████████████████████████████████████████████████████████████████████████████████████████▎                                                                   | 756/1200 [00:24<00:15, 28.69it/s]"
     ]
    },
    {
     "name": "stderr",
     "output_type": "stream",
     "text": [
      "\r",
      " 63%|███████████████████████████████████████████████████████████████████████████████████████████████████████████████████▉                                                                   | 760/1200 [00:24<00:14, 29.65it/s]"
     ]
    },
    {
     "name": "stderr",
     "output_type": "stream",
     "text": [
      "\r",
      " 64%|████████████████████████████████████████████████████████████████████████████████████████████████████████████████████▌                                                                  | 764/1200 [00:24<00:14, 30.23it/s]"
     ]
    },
    {
     "name": "stderr",
     "output_type": "stream",
     "text": [
      "\r",
      " 64%|█████████████████████████████████████████████████████████████████████████████████████████████████████████████████████                                                                  | 768/1200 [00:24<00:14, 30.60it/s]"
     ]
    },
    {
     "name": "stderr",
     "output_type": "stream",
     "text": [
      "\r",
      " 64%|█████████████████████████████████████████████████████████████████████████████████████████████████████████████████████▋                                                                 | 772/1200 [00:24<00:13, 30.96it/s]"
     ]
    },
    {
     "name": "stderr",
     "output_type": "stream",
     "text": [
      "\r",
      " 65%|██████████████████████████████████████████████████████████████████████████████████████████████████████████████████████▎                                                                | 776/1200 [00:24<00:13, 31.21it/s]"
     ]
    },
    {
     "name": "stderr",
     "output_type": "stream",
     "text": [
      "\r",
      " 65%|██████████████████████████████████████████████████████████████████████████████████████████████████████████████████████▉                                                                | 780/1200 [00:24<00:13, 31.50it/s]"
     ]
    },
    {
     "name": "stderr",
     "output_type": "stream",
     "text": [
      "\r",
      " 65%|███████████████████████████████████████████████████████████████████████████████████████████████████████████████████████▌                                                               | 784/1200 [00:25<00:13, 31.68it/s]"
     ]
    },
    {
     "name": "stderr",
     "output_type": "stream",
     "text": [
      "\r",
      " 66%|████████████████████████████████████████████████████████████████████████████████████████████████████████████████████████▏                                                              | 788/1200 [00:25<00:13, 31.61it/s]"
     ]
    },
    {
     "name": "stderr",
     "output_type": "stream",
     "text": [
      "\r",
      " 66%|████████████████████████████████████████████████████████████████████████████████████████████████████████████████████████▊                                                              | 792/1200 [00:25<00:13, 31.32it/s]"
     ]
    },
    {
     "name": "stderr",
     "output_type": "stream",
     "text": [
      "\r",
      " 66%|█████████████████████████████████████████████████████████████████████████████████████████████████████████████████████████▍                                                             | 796/1200 [00:25<00:12, 31.47it/s]"
     ]
    },
    {
     "name": "stderr",
     "output_type": "stream",
     "text": [
      "\r",
      " 67%|██████████████████████████████████████████████████████████████████████████████████████████████████████████████████████████                                                             | 800/1200 [00:25<00:12, 31.56it/s]"
     ]
    },
    {
     "name": "stderr",
     "output_type": "stream",
     "text": [
      "\r",
      " 67%|██████████████████████████████████████████████████████████████████████████████████████████████████████████████████████████▌                                                            | 804/1200 [00:25<00:12, 31.51it/s]"
     ]
    },
    {
     "name": "stderr",
     "output_type": "stream",
     "text": [
      "\r",
      " 67%|███████████████████████████████████████████████████████████████████████████████████████████████████████████████████████████▏                                                           | 808/1200 [00:25<00:12, 31.56it/s]"
     ]
    },
    {
     "name": "stderr",
     "output_type": "stream",
     "text": [
      "\r",
      " 68%|███████████████████████████████████████████████████████████████████████████████████████████████████████████████████████████▊                                                           | 812/1200 [00:25<00:12, 31.59it/s]"
     ]
    },
    {
     "name": "stderr",
     "output_type": "stream",
     "text": [
      "\r",
      " 68%|████████████████████████████████████████████████████████████████████████████████████████████████████████████████████████████▍                                                          | 816/1200 [00:26<00:12, 31.12it/s]"
     ]
    },
    {
     "name": "stderr",
     "output_type": "stream",
     "text": [
      "\r",
      " 68%|█████████████████████████████████████████████████████████████████████████████████████████████████████████████████████████████                                                          | 820/1200 [00:26<00:12, 31.13it/s]"
     ]
    },
    {
     "name": "stderr",
     "output_type": "stream",
     "text": [
      "\r",
      " 69%|█████████████████████████████████████████████████████████████████████████████████████████████████████████████████████████████▋                                                         | 824/1200 [00:26<00:11, 31.34it/s]"
     ]
    },
    {
     "name": "stderr",
     "output_type": "stream",
     "text": [
      "\r",
      " 69%|██████████████████████████████████████████████████████████████████████████████████████████████████████████████████████████████▎                                                        | 828/1200 [00:26<00:11, 31.46it/s]"
     ]
    },
    {
     "name": "stderr",
     "output_type": "stream",
     "text": [
      "\r",
      " 69%|██████████████████████████████████████████████████████████████████████████████████████████████████████████████████████████████▉                                                        | 832/1200 [00:26<00:11, 31.49it/s]"
     ]
    },
    {
     "name": "stderr",
     "output_type": "stream",
     "text": [
      "\r",
      " 70%|███████████████████████████████████████████████████████████████████████████████████████████████████████████████████████████████▍                                                       | 836/1200 [00:26<00:11, 31.56it/s]"
     ]
    },
    {
     "name": "stderr",
     "output_type": "stream",
     "text": [
      "\r",
      " 70%|████████████████████████████████████████████████████████████████████████████████████████████████████████████████████████████████                                                       | 840/1200 [00:26<00:11, 31.32it/s]"
     ]
    },
    {
     "name": "stderr",
     "output_type": "stream",
     "text": [
      "\r",
      " 70%|████████████████████████████████████████████████████████████████████████████████████████████████████████████████████████████████▋                                                      | 844/1200 [00:26<00:11, 31.24it/s]"
     ]
    },
    {
     "name": "stderr",
     "output_type": "stream",
     "text": [
      "\r",
      " 71%|█████████████████████████████████████████████████████████████████████████████████████████████████████████████████████████████████▎                                                     | 848/1200 [00:27<00:11, 31.26it/s]"
     ]
    },
    {
     "name": "stderr",
     "output_type": "stream",
     "text": [
      "\r",
      " 71%|█████████████████████████████████████████████████████████████████████████████████████████████████████████████████████████████████▉                                                     | 852/1200 [00:27<00:11, 31.53it/s]"
     ]
    },
    {
     "name": "stderr",
     "output_type": "stream",
     "text": [
      "\r",
      " 71%|██████████████████████████████████████████████████████████████████████████████████████████████████████████████████████████████████▌                                                    | 856/1200 [00:27<00:10, 31.56it/s]"
     ]
    },
    {
     "name": "stderr",
     "output_type": "stream",
     "text": [
      "\r",
      " 72%|███████████████████████████████████████████████████████████████████████████████████████████████████████████████████████████████████▏                                                   | 860/1200 [00:27<00:10, 31.48it/s]"
     ]
    },
    {
     "name": "stderr",
     "output_type": "stream",
     "text": [
      "\r",
      " 72%|███████████████████████████████████████████████████████████████████████████████████████████████████████████████████████████████████▊                                                   | 864/1200 [00:27<00:10, 31.79it/s]"
     ]
    },
    {
     "name": "stderr",
     "output_type": "stream",
     "text": [
      "\r",
      " 72%|████████████████████████████████████████████████████████████████████████████████████████████████████████████████████████████████████▎                                                  | 868/1200 [00:27<00:10, 32.00it/s]"
     ]
    },
    {
     "name": "stderr",
     "output_type": "stream",
     "text": [
      "\r",
      " 73%|████████████████████████████████████████████████████████████████████████████████████████████████████████████████████████████████████▉                                                  | 872/1200 [00:27<00:10, 32.00it/s]"
     ]
    },
    {
     "name": "stderr",
     "output_type": "stream",
     "text": [
      "\r",
      " 73%|█████████████████████████████████████████████████████████████████████████████████████████████████████████████████████████████████████▌                                                 | 876/1200 [00:27<00:10, 31.84it/s]"
     ]
    },
    {
     "name": "stderr",
     "output_type": "stream",
     "text": [
      "\r",
      " 73%|██████████████████████████████████████████████████████████████████████████████████████████████████████████████████████████████████████▏                                                | 880/1200 [00:28<00:10, 31.74it/s]"
     ]
    },
    {
     "name": "stderr",
     "output_type": "stream",
     "text": [
      "\r",
      " 74%|██████████████████████████████████████████████████████████████████████████████████████████████████████████████████████████████████████▊                                                | 884/1200 [00:28<00:09, 31.77it/s]"
     ]
    },
    {
     "name": "stderr",
     "output_type": "stream",
     "text": [
      "\r",
      " 74%|███████████████████████████████████████████████████████████████████████████████████████████████████████████████████████████████████████▍                                               | 888/1200 [00:28<00:09, 31.78it/s]"
     ]
    },
    {
     "name": "stderr",
     "output_type": "stream",
     "text": [
      "\r",
      " 74%|████████████████████████████████████████████████████████████████████████████████████████████████████████████████████████████████████████                                               | 892/1200 [00:28<00:09, 31.76it/s]"
     ]
    },
    {
     "name": "stderr",
     "output_type": "stream",
     "text": [
      "\r",
      " 75%|████████████████████████████████████████████████████████████████████████████████████████████████████████████████████████████████████████▋                                              | 896/1200 [00:28<00:09, 31.70it/s]"
     ]
    },
    {
     "name": "stderr",
     "output_type": "stream",
     "text": [
      "\r",
      " 75%|█████████████████████████████████████████████████████████████████████████████████████████████████████████████████████████████████████████▎                                             | 900/1200 [00:28<00:09, 31.60it/s]"
     ]
    },
    {
     "name": "stderr",
     "output_type": "stream",
     "text": [
      "\r",
      " 75%|█████████████████████████████████████████████████████████████████████████████████████████████████████████████████████████████████████████▊                                             | 904/1200 [00:28<00:09, 31.61it/s]"
     ]
    },
    {
     "name": "stderr",
     "output_type": "stream",
     "text": [
      "\r",
      " 76%|██████████████████████████████████████████████████████████████████████████████████████████████████████████████████████████████████████████▍                                            | 908/1200 [00:28<00:09, 31.68it/s]"
     ]
    },
    {
     "name": "stderr",
     "output_type": "stream",
     "text": [
      "\r",
      " 76%|███████████████████████████████████████████████████████████████████████████████████████████████████████████████████████████████████████████                                            | 912/1200 [00:29<00:09, 31.65it/s]"
     ]
    },
    {
     "name": "stderr",
     "output_type": "stream",
     "text": [
      "\r",
      " 76%|███████████████████████████████████████████████████████████████████████████████████████████████████████████████████████████████████████████▋                                           | 916/1200 [00:29<00:08, 31.66it/s]"
     ]
    },
    {
     "name": "stderr",
     "output_type": "stream",
     "text": [
      "\r",
      " 77%|████████████████████████████████████████████████████████████████████████████████████████████████████████████████████████████████████████████▎                                          | 920/1200 [00:29<00:08, 31.74it/s]"
     ]
    },
    {
     "name": "stderr",
     "output_type": "stream",
     "text": [
      "\r",
      " 77%|████████████████████████████████████████████████████████████████████████████████████████████████████████████████████████████████████████████▉                                          | 924/1200 [00:29<00:08, 31.73it/s]"
     ]
    },
    {
     "name": "stderr",
     "output_type": "stream",
     "text": [
      "\r",
      " 77%|█████████████████████████████████████████████████████████████████████████████████████████████████████████████████████████████████████████████▌                                         | 928/1200 [00:29<00:08, 31.75it/s]"
     ]
    },
    {
     "name": "stderr",
     "output_type": "stream",
     "text": [
      "\r",
      " 78%|██████████████████████████████████████████████████████████████████████████████████████████████████████████████████████████████████████████████▏                                        | 932/1200 [00:29<00:08, 31.74it/s]"
     ]
    },
    {
     "name": "stderr",
     "output_type": "stream",
     "text": [
      "\r",
      " 78%|██████████████████████████████████████████████████████████████████████████████████████████████████████████████████████████████████████████████▋                                        | 936/1200 [00:29<00:08, 31.72it/s]"
     ]
    },
    {
     "name": "stderr",
     "output_type": "stream",
     "text": [
      "\r",
      " 78%|███████████████████████████████████████████████████████████████████████████████████████████████████████████████████████████████████████████████▎                                       | 940/1200 [00:29<00:08, 31.78it/s]"
     ]
    },
    {
     "name": "stderr",
     "output_type": "stream",
     "text": [
      "\r",
      " 79%|███████████████████████████████████████████████████████████████████████████████████████████████████████████████████████████████████████████████▉                                       | 944/1200 [00:30<00:08, 31.81it/s]"
     ]
    },
    {
     "name": "stderr",
     "output_type": "stream",
     "text": [
      "\r",
      " 79%|████████████████████████████████████████████████████████████████████████████████████████████████████████████████████████████████████████████████▌                                      | 948/1200 [00:30<00:07, 31.83it/s]"
     ]
    },
    {
     "name": "stderr",
     "output_type": "stream",
     "text": [
      "\r",
      " 79%|█████████████████████████████████████████████████████████████████████████████████████████████████████████████████████████████████████████████████▏                                     | 952/1200 [00:30<00:07, 31.73it/s]"
     ]
    },
    {
     "name": "stderr",
     "output_type": "stream",
     "text": [
      "\r",
      " 80%|█████████████████████████████████████████████████████████████████████████████████████████████████████████████████████████████████████████████████▊                                     | 956/1200 [00:30<00:08, 29.83it/s]"
     ]
    },
    {
     "name": "stderr",
     "output_type": "stream",
     "text": [
      "\r",
      " 80%|██████████████████████████████████████████████████████████████████████████████████████████████████████████████████████████████████████████████████▍                                    | 960/1200 [00:30<00:08, 28.14it/s]"
     ]
    },
    {
     "name": "stderr",
     "output_type": "stream",
     "text": [
      "\r",
      " 80%|██████████████████████████████████████████████████████████████████████████████████████████████████████████████████████████████████████████████████▊                                    | 963/1200 [00:30<00:08, 27.51it/s]"
     ]
    },
    {
     "name": "stderr",
     "output_type": "stream",
     "text": [
      "\r",
      " 80%|███████████████████████████████████████████████████████████████████████████████████████████████████████████████████████████████████████████████████▎                                   | 966/1200 [00:30<00:08, 27.65it/s]"
     ]
    },
    {
     "name": "stderr",
     "output_type": "stream",
     "text": [
      "\r",
      " 81%|███████████████████████████████████████████████████████████████████████████████████████████████████████████████████████████████████████████████████▊                                   | 969/1200 [00:30<00:08, 28.02it/s]"
     ]
    },
    {
     "name": "stderr",
     "output_type": "stream",
     "text": [
      "\r",
      " 81%|████████████████████████████████████████████████████████████████████████████████████████████████████████████████████████████████████████████████████▏                                  | 972/1200 [00:31<00:08, 28.10it/s]"
     ]
    },
    {
     "name": "stderr",
     "output_type": "stream",
     "text": [
      "\r",
      " 81%|████████████████████████████████████████████████████████████████████████████████████████████████████████████████████████████████████████████████████▋                                  | 975/1200 [00:31<00:08, 27.81it/s]"
     ]
    },
    {
     "name": "stderr",
     "output_type": "stream",
     "text": [
      "\r",
      " 82%|█████████████████████████████████████████████████████████████████████████████████████████████████████████████████████████████████████████████████████▎                                 | 979/1200 [00:31<00:07, 29.05it/s]"
     ]
    },
    {
     "name": "stderr",
     "output_type": "stream",
     "text": [
      "\r",
      " 82%|█████████████████████████████████████████████████████████████████████████████████████████████████████████████████████████████████████████████████████▉                                 | 983/1200 [00:31<00:07, 30.10it/s]"
     ]
    },
    {
     "name": "stderr",
     "output_type": "stream",
     "text": [
      "\r",
      " 82%|██████████████████████████████████████████████████████████████████████████████████████████████████████████████████████████████████████████████████████▌                                | 987/1200 [00:31<00:06, 30.88it/s]"
     ]
    },
    {
     "name": "stderr",
     "output_type": "stream",
     "text": [
      "\r",
      " 83%|███████████████████████████████████████████████████████████████████████████████████████████████████████████████████████████████████████████████████████▏                               | 991/1200 [00:31<00:06, 31.42it/s]"
     ]
    },
    {
     "name": "stderr",
     "output_type": "stream",
     "text": [
      "\r",
      " 83%|███████████████████████████████████████████████████████████████████████████████████████████████████████████████████████████████████████████████████████▋                               | 995/1200 [00:31<00:06, 31.82it/s]"
     ]
    },
    {
     "name": "stderr",
     "output_type": "stream",
     "text": [
      "\r",
      " 83%|████████████████████████████████████████████████████████████████████████████████████████████████████████████████████████████████████████████████████████▎                              | 999/1200 [00:31<00:06, 31.97it/s]"
     ]
    },
    {
     "name": "stderr",
     "output_type": "stream",
     "text": [
      "\r",
      " 84%|████████████████████████████████████████████████████████████████████████████████████████████████████████████████████████████████████████████████████████                              | 1003/1200 [00:32<00:06, 32.02it/s]"
     ]
    },
    {
     "name": "stderr",
     "output_type": "stream",
     "text": [
      "\r",
      " 84%|████████████████████████████████████████████████████████████████████████████████████████████████████████████████████████████████████████████████████████▋                             | 1007/1200 [00:32<00:05, 32.18it/s]"
     ]
    },
    {
     "name": "stderr",
     "output_type": "stream",
     "text": [
      "\r",
      " 84%|█████████████████████████████████████████████████████████████████████████████████████████████████████████████████████████████████████████████████████████▎                            | 1011/1200 [00:32<00:05, 32.35it/s]"
     ]
    },
    {
     "name": "stderr",
     "output_type": "stream",
     "text": [
      "\r",
      " 85%|█████████████████████████████████████████████████████████████████████████████████████████████████████████████████████████████████████████████████████████▉                            | 1015/1200 [00:32<00:05, 32.50it/s]"
     ]
    },
    {
     "name": "stderr",
     "output_type": "stream",
     "text": [
      "\r",
      " 85%|██████████████████████████████████████████████████████████████████████████████████████████████████████████████████████████████████████████████████████████▌                           | 1019/1200 [00:32<00:05, 32.58it/s]"
     ]
    },
    {
     "name": "stderr",
     "output_type": "stream",
     "text": [
      "\r",
      " 85%|███████████████████████████████████████████████████████████████████████████████████████████████████████████████████████████████████████████████████████████▏                          | 1023/1200 [00:32<00:05, 32.42it/s]"
     ]
    },
    {
     "name": "stderr",
     "output_type": "stream",
     "text": [
      "\r",
      " 86%|███████████████████████████████████████████████████████████████████████████████████████████████████████████████████████████████████████████████████████████▊                          | 1027/1200 [00:32<00:05, 32.15it/s]"
     ]
    },
    {
     "name": "stderr",
     "output_type": "stream",
     "text": [
      "\r",
      " 86%|████████████████████████████████████████████████████████████████████████████████████████████████████████████████████████████████████████████████████████████▎                         | 1031/1200 [00:32<00:05, 32.09it/s]"
     ]
    },
    {
     "name": "stderr",
     "output_type": "stream",
     "text": [
      "\r",
      " 86%|████████████████████████████████████████████████████████████████████████████████████████████████████████████████████████████████████████████████████████████▉                         | 1035/1200 [00:33<00:05, 32.26it/s]"
     ]
    },
    {
     "name": "stderr",
     "output_type": "stream",
     "text": [
      "\r",
      " 87%|█████████████████████████████████████████████████████████████████████████████████████████████████████████████████████████████████████████████████████████████▌                        | 1039/1200 [00:33<00:04, 32.41it/s]"
     ]
    },
    {
     "name": "stderr",
     "output_type": "stream",
     "text": [
      "\r",
      " 87%|██████████████████████████████████████████████████████████████████████████████████████████████████████████████████████████████████████████████████████████████▏                       | 1043/1200 [00:33<00:04, 32.40it/s]"
     ]
    },
    {
     "name": "stderr",
     "output_type": "stream",
     "text": [
      "\r",
      " 87%|██████████████████████████████████████████████████████████████████████████████████████████████████████████████████████████████████████████████████████████████▊                       | 1047/1200 [00:33<00:04, 32.44it/s]"
     ]
    },
    {
     "name": "stderr",
     "output_type": "stream",
     "text": [
      "\r",
      " 88%|███████████████████████████████████████████████████████████████████████████████████████████████████████████████████████████████████████████████████████████████▍                      | 1051/1200 [00:33<00:04, 32.52it/s]"
     ]
    },
    {
     "name": "stderr",
     "output_type": "stream",
     "text": [
      "\r",
      " 88%|████████████████████████████████████████████████████████████████████████████████████████████████████████████████████████████████████████████████████████████████                      | 1055/1200 [00:33<00:04, 32.59it/s]"
     ]
    },
    {
     "name": "stderr",
     "output_type": "stream",
     "text": [
      "\r",
      " 88%|████████████████████████████████████████████████████████████████████████████████████████████████████████████████████████████████████████████████████████████████▌                     | 1059/1200 [00:33<00:04, 32.68it/s]"
     ]
    },
    {
     "name": "stderr",
     "output_type": "stream",
     "text": [
      "\r",
      " 89%|█████████████████████████████████████████████████████████████████████████████████████████████████████████████████████████████████████████████████████████████████▏                    | 1063/1200 [00:33<00:04, 32.76it/s]"
     ]
    },
    {
     "name": "stderr",
     "output_type": "stream",
     "text": [
      "\r",
      " 89%|█████████████████████████████████████████████████████████████████████████████████████████████████████████████████████████████████████████████████████████████████▊                    | 1067/1200 [00:34<00:04, 32.77it/s]"
     ]
    },
    {
     "name": "stderr",
     "output_type": "stream",
     "text": [
      "\r",
      " 89%|██████████████████████████████████████████████████████████████████████████████████████████████████████████████████████████████████████████████████████████████████▍                   | 1071/1200 [00:34<00:03, 32.82it/s]"
     ]
    },
    {
     "name": "stderr",
     "output_type": "stream",
     "text": [
      "\r",
      " 90%|███████████████████████████████████████████████████████████████████████████████████████████████████████████████████████████████████████████████████████████████████                   | 1075/1200 [00:34<00:03, 32.81it/s]"
     ]
    },
    {
     "name": "stderr",
     "output_type": "stream",
     "text": [
      "\r",
      " 90%|███████████████████████████████████████████████████████████████████████████████████████████████████████████████████████████████████████████████████████████████████▋                  | 1079/1200 [00:34<00:03, 32.77it/s]"
     ]
    },
    {
     "name": "stderr",
     "output_type": "stream",
     "text": [
      "\r",
      " 90%|████████████████████████████████████████████████████████████████████████████████████████████████████████████████████████████████████████████████████████████████████▎                 | 1083/1200 [00:34<00:03, 32.79it/s]"
     ]
    },
    {
     "name": "stderr",
     "output_type": "stream",
     "text": [
      "\r",
      " 91%|████████████████████████████████████████████████████████████████████████████████████████████████████████████████████████████████████████████████████████████████████▊                 | 1087/1200 [00:34<00:03, 32.79it/s]"
     ]
    },
    {
     "name": "stderr",
     "output_type": "stream",
     "text": [
      "\r",
      " 91%|█████████████████████████████████████████████████████████████████████████████████████████████████████████████████████████████████████████████████████████████████████▍                | 1091/1200 [00:34<00:03, 32.86it/s]"
     ]
    },
    {
     "name": "stderr",
     "output_type": "stream",
     "text": [
      "\r",
      " 91%|██████████████████████████████████████████████████████████████████████████████████████████████████████████████████████████████████████████████████████████████████████                | 1095/1200 [00:34<00:03, 32.86it/s]"
     ]
    },
    {
     "name": "stderr",
     "output_type": "stream",
     "text": [
      "\r",
      " 92%|██████████████████████████████████████████████████████████████████████████████████████████████████████████████████████████████████████████████████████████████████████▋               | 1099/1200 [00:34<00:03, 32.91it/s]"
     ]
    },
    {
     "name": "stderr",
     "output_type": "stream",
     "text": [
      "\r",
      " 92%|███████████████████████████████████████████████████████████████████████████████████████████████████████████████████████████████████████████████████████████████████████▎              | 1103/1200 [00:35<00:02, 32.38it/s]"
     ]
    },
    {
     "name": "stderr",
     "output_type": "stream",
     "text": [
      "\r",
      " 92%|███████████████████████████████████████████████████████████████████████████████████████████████████████████████████████████████████████████████████████████████████████▉              | 1107/1200 [00:35<00:02, 31.92it/s]"
     ]
    },
    {
     "name": "stderr",
     "output_type": "stream",
     "text": [
      "\r",
      " 93%|████████████████████████████████████████████████████████████████████████████████████████████████████████████████████████████████████████████████████████████████████████▌             | 1111/1200 [00:35<00:02, 32.15it/s]"
     ]
    },
    {
     "name": "stderr",
     "output_type": "stream",
     "text": [
      "\r",
      " 93%|█████████████████████████████████████████████████████████████████████████████████████████████████████████████████████████████████████████████████████████████████████████             | 1115/1200 [00:35<00:02, 31.95it/s]"
     ]
    },
    {
     "name": "stderr",
     "output_type": "stream",
     "text": [
      "\r",
      " 93%|█████████████████████████████████████████████████████████████████████████████████████████████████████████████████████████████████████████████████████████████████████████▋            | 1119/1200 [00:35<00:02, 31.60it/s]"
     ]
    },
    {
     "name": "stderr",
     "output_type": "stream",
     "text": [
      "\r",
      " 94%|██████████████████████████████████████████████████████████████████████████████████████████████████████████████████████████████████████████████████████████████████████████▎           | 1123/1200 [00:35<00:02, 31.19it/s]"
     ]
    },
    {
     "name": "stderr",
     "output_type": "stream",
     "text": [
      "\r",
      " 94%|██████████████████████████████████████████████████████████████████████████████████████████████████████████████████████████████████████████████████████████████████████████▉           | 1127/1200 [00:35<00:02, 31.43it/s]"
     ]
    },
    {
     "name": "stderr",
     "output_type": "stream",
     "text": [
      "\r",
      " 94%|███████████████████████████████████████████████████████████████████████████████████████████████████████████████████████████████████████████████████████████████████████████▌          | 1131/1200 [00:35<00:02, 31.59it/s]"
     ]
    },
    {
     "name": "stderr",
     "output_type": "stream",
     "text": [
      "\r",
      " 95%|████████████████████████████████████████████████████████████████████████████████████████████████████████████████████████████████████████████████████████████████████████████▏         | 1135/1200 [00:36<00:02, 31.90it/s]"
     ]
    },
    {
     "name": "stderr",
     "output_type": "stream",
     "text": [
      "\r",
      " 95%|████████████████████████████████████████████████████████████████████████████████████████████████████████████████████████████████████████████████████████████████████████████▋         | 1139/1200 [00:36<00:01, 32.09it/s]"
     ]
    },
    {
     "name": "stderr",
     "output_type": "stream",
     "text": [
      "\r",
      " 95%|█████████████████████████████████████████████████████████████████████████████████████████████████████████████████████████████████████████████████████████████████████████████▎        | 1143/1200 [00:36<00:01, 32.33it/s]"
     ]
    },
    {
     "name": "stderr",
     "output_type": "stream",
     "text": [
      "\r",
      " 96%|█████████████████████████████████████████████████████████████████████████████████████████████████████████████████████████████████████████████████████████████████████████████▉        | 1147/1200 [00:36<00:01, 32.49it/s]"
     ]
    },
    {
     "name": "stderr",
     "output_type": "stream",
     "text": [
      "\r",
      " 96%|██████████████████████████████████████████████████████████████████████████████████████████████████████████████████████████████████████████████████████████████████████████████▌       | 1151/1200 [00:36<00:01, 32.59it/s]"
     ]
    },
    {
     "name": "stderr",
     "output_type": "stream",
     "text": [
      "\r",
      " 96%|███████████████████████████████████████████████████████████████████████████████████████████████████████████████████████████████████████████████████████████████████████████████▏      | 1155/1200 [00:36<00:01, 32.71it/s]"
     ]
    },
    {
     "name": "stderr",
     "output_type": "stream",
     "text": [
      "\r",
      " 97%|███████████████████████████████████████████████████████████████████████████████████████████████████████████████████████████████████████████████████████████████████████████████▊      | 1159/1200 [00:36<00:01, 32.47it/s]"
     ]
    },
    {
     "name": "stderr",
     "output_type": "stream",
     "text": [
      "\r",
      " 97%|████████████████████████████████████████████████████████████████████████████████████████████████████████████████████████████████████████████████████████████████████████████████▍     | 1163/1200 [00:36<00:01, 32.57it/s]"
     ]
    },
    {
     "name": "stderr",
     "output_type": "stream",
     "text": [
      "\r",
      " 97%|████████████████████████████████████████████████████████████████████████████████████████████████████████████████████████████████████████████████████████████████████████████████▉     | 1167/1200 [00:37<00:01, 32.65it/s]"
     ]
    },
    {
     "name": "stderr",
     "output_type": "stream",
     "text": [
      "\r",
      " 98%|█████████████████████████████████████████████████████████████████████████████████████████████████████████████████████████████████████████████████████████████████████████████████▌    | 1171/1200 [00:37<00:00, 32.68it/s]"
     ]
    },
    {
     "name": "stderr",
     "output_type": "stream",
     "text": [
      "\r",
      " 98%|██████████████████████████████████████████████████████████████████████████████████████████████████████████████████████████████████████████████████████████████████████████████████▏   | 1175/1200 [00:37<00:00, 32.67it/s]"
     ]
    },
    {
     "name": "stderr",
     "output_type": "stream",
     "text": [
      "\r",
      " 98%|██████████████████████████████████████████████████████████████████████████████████████████████████████████████████████████████████████████████████████████████████████████████████▊   | 1179/1200 [00:37<00:00, 32.70it/s]"
     ]
    },
    {
     "name": "stderr",
     "output_type": "stream",
     "text": [
      "\r",
      " 99%|███████████████████████████████████████████████████████████████████████████████████████████████████████████████████████████████████████████████████████████████████████████████████▍  | 1183/1200 [00:37<00:00, 32.65it/s]"
     ]
    },
    {
     "name": "stderr",
     "output_type": "stream",
     "text": [
      "\r",
      " 99%|████████████████████████████████████████████████████████████████████████████████████████████████████████████████████████████████████████████████████████████████████████████████████  | 1187/1200 [00:37<00:00, 32.55it/s]"
     ]
    },
    {
     "name": "stderr",
     "output_type": "stream",
     "text": [
      "\r",
      " 99%|████████████████████████████████████████████████████████████████████████████████████████████████████████████████████████████████████████████████████████████████████████████████████▋ | 1191/1200 [00:37<00:00, 32.63it/s]"
     ]
    },
    {
     "name": "stderr",
     "output_type": "stream",
     "text": [
      "\r",
      "100%|█████████████████████████████████████████████████████████████████████████████████████████████████████████████████████████████████████████████████████████████████████████████████████▏| 1195/1200 [00:37<00:00, 32.67it/s]"
     ]
    },
    {
     "name": "stderr",
     "output_type": "stream",
     "text": [
      "\r",
      "100%|█████████████████████████████████████████████████████████████████████████████████████████████████████████████████████████████████████████████████████████████████████████████████████▊| 1199/1200 [00:38<00:00, 32.66it/s]"
     ]
    },
    {
     "name": "stderr",
     "output_type": "stream",
     "text": [
      "\r",
      "100%|██████████████████████████████████████████████████████████████████████████████████████████████████████████████████████████████████████████████████████████████████████████████████████| 1200/1200 [00:38<00:00, 31.49it/s]"
     ]
    },
    {
     "name": "stderr",
     "output_type": "stream",
     "text": [
      "\n"
     ]
    },
    {
     "name": "stdout",
     "output_type": "stream",
     "text": [
      "Acceptance rate: 0.3708\n"
     ]
    },
    {
     "data": {
      "image/png": "[encoded data removed]",
      "text/plain": [
       "<Figure size 640x480 with 1 Axes>"
      ]
     },
     "metadata": {},
     "output_type": "display_data"
    },
    {
     "data": {
      "image/png": "[encoded data removed]",
      "text/plain": [
       "<Figure size 1500x500 with 3 Axes>"
      ]
     },
     "metadata": {},
     "output_type": "display_data"
    }
   ],
   "source": [
    "# inference for Gaussian model, likelihood from forward guiding\n",
    "\n",
    "# Crank-Nicolson update with possibly node-dependent lambd\n",
    "lambd = .9\n",
    "update_CN = lambda noise,key: noise*lambd+jnp.sqrt((1-lambd**2))*jax.random.normal(key,noise.shape)\n",
    "\n",
    "# downwards pass to compute likelihoods\n",
    "tree.add_property('log_likelihood', shape=())\n",
    "@jax.jit\n",
    "def down_log_likelihood(noise,value,edge_length,parent_value,logw,params,**args):\n",
    "    var = edge_length # variance is edge length\n",
    "    return {'log_likelihood': jnp.mean(\n",
    "        jax.vmap(lambda v,m,var,logw: logw+jax.scipy.stats.norm.logpdf(\n",
    "            jax.vmap(lambda w: jnp.linalg.solve(sigma(m,params)/params['k_alpha'],w),1)((v-m).reshape((n,d))).flatten(),\n",
    "            0,jnp.sqrt(var)*params['k_alpha']))(value,parent_value,var,logw)\n",
    "        ,1)\n",
    "        }\n",
    "downmodel_log_likelihood = DownLambda(down_fn=down_log_likelihood)\n",
    "down_log_likelihood = OrderedExecutor(downmodel_log_likelihood)\n",
    "\n",
    "# log likelihood of the tree\n",
    "def log_likelihood(data,state):\n",
    "    \"\"\"Log likelihood of the tree.\"\"\"\n",
    "    params,noise = state\n",
    "    # backwards filtering with current parameters\n",
    "    init_up(data,params); up.up(tree,params.values())\n",
    "    # forwards guiding with current noise\n",
    "    tree.data['noise'] = noise; down_conditional.down(tree,params.values())\n",
    "    # compute log likelihood\n",
    "    down_log_likelihood.down(tree,params.values())\n",
    "    tree_log_likelihood = jnp.mean(tree.data['log_likelihood'][1:]) # ignore root node\n",
    "    residuals = tree.data['value'][tree.is_leaf]-data\n",
    "    leaves_log_likelihood = jnp.mean(jax.scipy.stats.norm.logpdf(residuals,0,jnp.sqrt(params['obs_var'].value)))\n",
    "    return tree_log_likelihood+leaves_log_likelihood\n",
    "\n",
    "def log_posterior(data,state):\n",
    "    \"\"\"Log posterior given the state and data.\"\"\"\n",
    "    parameters,_ = state\n",
    "    log_prior = parameters.log_prior()\n",
    "    log_like = log_likelihood(data,state)\n",
    "    return log_prior + log_like\n",
    "\n",
    "def proposal(data, state, key):\n",
    "    subkeys = jax.random.split(key,2)\n",
    "    parameters,noise = state\n",
    "\n",
    "    # update parameters\n",
    "    new_parameters = parameters.propose(subkeys[0])\n",
    "    # update noise\n",
    "    new_noise = update_CN(noise,subkeys[1])\n",
    "\n",
    "    return new_parameters,new_noise\n",
    "\n",
    "# tree values and parameters\n",
    "init_params = ParameterStore({\n",
    "    'k_alpha': VarianceParameter(.5,alpha=2,beta=.5), # kernel amplitude, governs global tree variance\n",
    "    'k_sigma': VarianceParameter(.25,alpha=2,beta=.5), # kernel width, for Gaussian kernels this is proportional to the variance\n",
    "    'obs_var': VarianceParameter(1e-3,alpha=2,beta=.003) # observation noise variance\n",
    "    })\n",
    "print(\"Initial parameters: \",init_params.values())\n",
    "print(\"data parameters: \",params.values())\n",
    "\n",
    "# initial state\n",
    "init_state = (init_params,jnp.zeros_like(tree.data['noise']))\n",
    "\n",
    "# Run Metropolis-Hastings\n",
    "subkey, key = split(key)\n",
    "log_likelihoods, samples = metropolis_hastings(log_posterior, proposal, leaf_values, init_state, 1000, burn_in=200, rng_key=key, savef=lambda state: state[0])\n",
    "\n",
    "# plot\n",
    "plt.plot(log_likelihoods)\n",
    "plt.xlabel(\"Iterations\")\n",
    "plt.title('Log likelihood')\n",
    "trace_plots(samples,params.values())"
   ]
  },
  {
   "cell_type": "code",
   "execution_count": null,
   "metadata": {},
   "outputs": [],
   "source": []
  }
 ],
 "metadata": {
  "kernelspec": {
   "display_name": "hyperiax_dev",
   "language": "python",
   "name": "python3"
  },
  "language_info": {
   "codemirror_mode": {
    "name": "ipython",
    "version": 3
   },
   "file_extension": ".py",
   "mimetype": "text/x-python",
   "name": "python",
   "nbconvert_exporter": "python",
   "pygments_lexer": "ipython3",
   "version": "3.11.4"
  }
 },
 "nbformat": 4,
 "nbformat_minor": 2
}
