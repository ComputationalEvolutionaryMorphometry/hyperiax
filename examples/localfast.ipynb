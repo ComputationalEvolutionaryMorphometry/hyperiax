{
 "cells": [
  {
   "cell_type": "code",
   "execution_count": 136,
   "metadata": {},
   "outputs": [
    {
     "name": "stdout",
     "output_type": "stream",
     "text": [
      "The autoreload extension is already loaded. To reload it, use:\n",
      "  %reload_ext autoreload\n"
     ]
    }
   ],
   "source": [
    "%load_ext autoreload\n",
    "%autoreload 2"
   ]
  },
  {
   "cell_type": "code",
   "execution_count": 137,
   "metadata": {},
   "outputs": [],
   "source": [
    "from jax.random import PRNGKey\n",
    "from hyperiax.execution import UnorderedExecutor\n",
    "from hyperiax.tree.fasttree import FastTree\n",
    "from hyperiax.models import UpdateLambda\n",
    "import jax\n",
    "from hyperiax.tree.builders import symmetric_topology\n",
    "from jax import numpy as jnp\n"
   ]
  },
  {
   "cell_type": "code",
   "execution_count": 26,
   "metadata": {},
   "outputs": [
    {
     "name": "stdout",
     "output_type": "stream",
     "text": [
      "Number of nodes: 15\n"
     ]
    }
   ],
   "source": [
    "key = PRNGKey(1337)\n",
    "depth = 3\n",
    "print(\"Number of nodes:\", (2<<depth)-1)"
   ]
  },
  {
   "cell_type": "code",
   "execution_count": 35,
   "metadata": {},
   "outputs": [],
   "source": [
    "topology = symmetric_topology(depth, 2)\n",
    "tree = FastTree(topology)\n",
    "#tree = FastBiTree(depth)\n",
    "tree.add_property('edge_length', (1,))\n",
    "tree.add_property('value', (2,))"
   ]
  },
  {
   "cell_type": "code",
   "execution_count": 37,
   "metadata": {},
   "outputs": [],
   "source": [
    "tree.data['edge_length'] = jnp.ones_like(tree.data['edge_length'])\n",
    "tree.data['value'] = jax.random.normal(key, tree.data['value'].shape)"
   ]
  },
  {
   "cell_type": "code",
   "execution_count": 38,
   "metadata": {},
   "outputs": [],
   "source": [
    "def update(child_value, parent_value, value, **kwargs):\n",
    "    return {'value': (child_value+parent_value+value)/3}\n",
    "\n",
    "def up(value, **kwargs):\n",
    "    return {'value': value}\n",
    "\n",
    "model = UpdateLambda(up, update, reductions={'value': 'sum'})"
   ]
  },
  {
   "cell_type": "code",
   "execution_count": 39,
   "metadata": {},
   "outputs": [],
   "source": [
    "exe = UnorderedExecutor(model)"
   ]
  },
  {
   "cell_type": "code",
   "execution_count": 134,
   "metadata": {},
   "outputs": [
    {
     "data": {
      "text/plain": [
       "{'edge_length': Array([[1.],\n",
       "        [1.],\n",
       "        [1.],\n",
       "        [1.],\n",
       "        [1.],\n",
       "        [1.],\n",
       "        [1.],\n",
       "        [1.],\n",
       "        [1.],\n",
       "        [1.],\n",
       "        [1.],\n",
       "        [1.],\n",
       "        [1.],\n",
       "        [1.],\n",
       "        [1.]], dtype=float32),\n",
       " 'value': Array([[-2.0376794e+06, -6.3445588e+05],\n",
       "        [-1.5216094e+06, -4.7377031e+05],\n",
       "        [-1.5216092e+06, -4.7377225e+05],\n",
       "        [-6.1023669e+05, -1.9000417e+05],\n",
       "        [-6.1023844e+05, -1.9000338e+05],\n",
       "        [-6.1023775e+05, -1.9000584e+05],\n",
       "        [-6.1023719e+05, -1.9000561e+05],\n",
       "        [ 1.3846554e+00, -9.2566572e-02],\n",
       "        [-6.5286350e-01, -5.9667703e-02],\n",
       "        [-1.6942079e+00, -2.0053019e-01],\n",
       "        [-9.7452837e-01,  1.6766815e+00],\n",
       "        [-7.1187401e-01, -1.0034498e+00],\n",
       "        [-7.9270500e-01, -5.2675545e-01],\n",
       "        [-3.9856440e-01,  4.1108310e-01],\n",
       "        [ 9.4253209e-04, -1.4827111e+00]], dtype=float32)}"
      ]
     },
     "execution_count": 134,
     "metadata": {},
     "output_type": "execute_result"
    }
   ],
   "source": [
    "exe.update(tree)"
   ]
  }
 ],
 "metadata": {
  "kernelspec": {
   "display_name": "jaxenv",
   "language": "python",
   "name": "python3"
  },
  "language_info": {
   "codemirror_mode": {
    "name": "ipython",
    "version": 3
   },
   "file_extension": ".py",
   "mimetype": "text/x-python",
   "name": "python",
   "nbconvert_exporter": "python",
   "pygments_lexer": "ipython3",
   "version": "3.11.7"
  }
 },
 "nbformat": 4,
 "nbformat_minor": 2
}
