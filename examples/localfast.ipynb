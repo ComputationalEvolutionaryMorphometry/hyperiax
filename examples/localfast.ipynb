{
 "cells": [
  {
   "cell_type": "code",
   "execution_count": 1,
   "metadata": {},
   "outputs": [],
   "source": [
    "%load_ext autoreload\n",
    "%autoreload 2"
   ]
  },
  {
   "cell_type": "code",
   "execution_count": 101,
   "metadata": {},
   "outputs": [],
   "source": [
    "from jax.random import PRNGKey\n",
    "from hyperiax.execution import UnorderedExecutor\n",
    "from hyperiax.tree.tree import HypTree\n",
    "from hyperiax.models import UpdateLambda\n",
    "import jax\n",
    "from hyperiax.tree.topology import symmetric_topology\n",
    "from jax import numpy as jnp\n"
   ]
  },
  {
   "cell_type": "code",
   "execution_count": 109,
   "metadata": {},
   "outputs": [
    {
     "name": "stdout",
     "output_type": "stream",
     "text": [
      "Number of nodes: 32767\n"
     ]
    }
   ],
   "source": [
    "key = PRNGKey(1337)\n",
    "depth = 14\n",
    "print(\"Number of nodes:\", (2<<depth)-1)"
   ]
  },
  {
   "cell_type": "code",
   "execution_count": 110,
   "metadata": {},
   "outputs": [
    {
     "name": "stdout",
     "output_type": "stream",
     "text": [
      "Precomputed child gathers in 0.8919119834899902 seconds\n"
     ]
    }
   ],
   "source": [
    "topology = symmetric_topology(depth, 2)\n",
    "tree = HypTree(topology, precompute_child_gathers=True)\n",
    "#tree = FastBiTree(depth)\n",
    "tree.add_property('edge_length', (1,))\n",
    "tree.add_property('value', (1,))\n",
    "tree.add_property('test_value', (1,))"
   ]
  },
  {
   "cell_type": "code",
   "execution_count": 112,
   "metadata": {},
   "outputs": [],
   "source": [
    "tree.data['edge_length'] = jnp.ones_like(tree.data['edge_length'])\n",
    "tree.data['value'] = jnp.arange(len(tree))[:, jnp.newaxis]"
   ]
  },
  {
   "cell_type": "code",
   "execution_count": 113,
   "metadata": {},
   "outputs": [],
   "source": [
    "def update(child_value, parent_value, value, leaf_mask, **kwargs):\n",
    "    child_sums = child_value.sum(axis=1)\n",
    "    child_sums = jnp.where(leaf_mask[:, jnp.newaxis], jnp.zeros_like(child_sums), child_sums)\n",
    "\n",
    "    return {'test_value': (child_sums+parent_value+value)}\n",
    "\n",
    "model = UpdateLambda(update)"
   ]
  },
  {
   "cell_type": "code",
   "execution_count": 118,
   "metadata": {},
   "outputs": [],
   "source": [
    "exe = UnorderedExecutor(model)"
   ]
  },
  {
   "cell_type": "code",
   "execution_count": 119,
   "metadata": {},
   "outputs": [],
   "source": [
    "exe.update(tree)"
   ]
  },
  {
   "cell_type": "code",
   "execution_count": null,
   "metadata": {},
   "outputs": [],
   "source": []
  }
 ],
 "metadata": {
  "kernelspec": {
   "display_name": "jaxenv",
   "language": "python",
   "name": "python3"
  },
  "language_info": {
   "codemirror_mode": {
    "name": "ipython",
    "version": 3
   },
   "file_extension": ".py",
   "mimetype": "text/x-python",
   "name": "python",
   "nbconvert_exporter": "python",
   "pygments_lexer": "ipython3",
   "version": "3.11.7"
  }
 },
 "nbformat": 4,
 "nbformat_minor": 2
}
