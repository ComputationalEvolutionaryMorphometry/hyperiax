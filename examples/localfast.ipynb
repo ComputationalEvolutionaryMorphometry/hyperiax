{
 "cells": [
  {
   "cell_type": "code",
   "execution_count": 1,
   "metadata": {
    "execution": {
     "iopub.execute_input": "2025-03-04T16:58:38.177646Z",
     "iopub.status.busy": "2025-03-04T16:58:38.177530Z",
     "iopub.status.idle": "2025-03-04T16:58:38.187869Z",
     "shell.execute_reply": "2025-03-04T16:58:38.187591Z"
    }
   },
   "outputs": [],
   "source": [
    "%load_ext autoreload\n",
    "%autoreload 2"
   ]
  },
  {
   "cell_type": "code",
   "execution_count": 2,
   "metadata": {
    "execution": {
     "iopub.execute_input": "2025-03-04T16:58:38.189404Z",
     "iopub.status.busy": "2025-03-04T16:58:38.189300Z",
     "iopub.status.idle": "2025-03-04T16:58:38.573088Z",
     "shell.execute_reply": "2025-03-04T16:58:38.572767Z"
    }
   },
   "outputs": [],
   "source": [
    "from jax.random import PRNGKey\n",
    "from hyperiax.execution import UnorderedExecutor\n",
    "from hyperiax.tree.tree import HypTree\n",
    "from hyperiax.models import UpdateLambda\n",
    "import jax\n",
    "from hyperiax.tree.topology import symmetric_topology\n",
    "from jax import numpy as jnp\n"
   ]
  },
  {
   "cell_type": "code",
   "execution_count": 3,
   "metadata": {
    "execution": {
     "iopub.execute_input": "2025-03-04T16:58:38.574750Z",
     "iopub.status.busy": "2025-03-04T16:58:38.574660Z",
     "iopub.status.idle": "2025-03-04T16:58:38.605497Z",
     "shell.execute_reply": "2025-03-04T16:58:38.605241Z"
    }
   },
   "outputs": [
    {
     "name": "stdout",
     "output_type": "stream",
     "text": [
      "Number of nodes: 32767\n"
     ]
    }
   ],
   "source": [
    "key = PRNGKey(1337)\n",
    "depth = 14\n",
    "print(\"Number of nodes:\", (2<<depth)-1)"
   ]
  },
  {
   "cell_type": "code",
   "execution_count": 4,
   "metadata": {
    "execution": {
     "iopub.execute_input": "2025-03-04T16:58:38.620633Z",
     "iopub.status.busy": "2025-03-04T16:58:38.620538Z",
     "iopub.status.idle": "2025-03-04T16:58:41.944141Z",
     "shell.execute_reply": "2025-03-04T16:58:41.943778Z"
    }
   },
   "outputs": [],
   "source": [
    "topology = symmetric_topology(depth, 2)\n",
    "tree = HypTree(topology, precompute_child_gathers=True)\n",
    "#tree = FastBiTree(depth)\n",
    "tree.add_property('edge_length', (1,))\n",
    "tree.add_property('value', (1,))\n",
    "tree.add_property('test_value', (1,))"
   ]
  },
  {
   "cell_type": "code",
   "execution_count": 5,
   "metadata": {
    "execution": {
     "iopub.execute_input": "2025-03-04T16:58:41.945785Z",
     "iopub.status.busy": "2025-03-04T16:58:41.945712Z",
     "iopub.status.idle": "2025-03-04T16:58:41.960049Z",
     "shell.execute_reply": "2025-03-04T16:58:41.959789Z"
    }
   },
   "outputs": [],
   "source": [
    "tree.data['edge_length'] = jnp.ones_like(tree.data['edge_length'])\n",
    "tree.data['value'] = jnp.arange(len(tree))[:, jnp.newaxis]"
   ]
  },
  {
   "cell_type": "code",
   "execution_count": 6,
   "metadata": {
    "execution": {
     "iopub.execute_input": "2025-03-04T16:58:41.961421Z",
     "iopub.status.busy": "2025-03-04T16:58:41.961356Z",
     "iopub.status.idle": "2025-03-04T16:58:41.968181Z",
     "shell.execute_reply": "2025-03-04T16:58:41.967925Z"
    }
   },
   "outputs": [],
   "source": [
    "def update(child_value, parent_value, value, leaf_mask, **kwargs):\n",
    "    child_sums = child_value.sum(axis=1)\n",
    "    child_sums = jnp.where(leaf_mask[:, jnp.newaxis], jnp.zeros_like(child_sums), child_sums)\n",
    "\n",
    "    return {'test_value': (child_sums+parent_value+value)}\n",
    "\n",
    "model = UpdateLambda(update)"
   ]
  },
  {
   "cell_type": "code",
   "execution_count": 7,
   "metadata": {
    "execution": {
     "iopub.execute_input": "2025-03-04T16:58:41.969427Z",
     "iopub.status.busy": "2025-03-04T16:58:41.969361Z",
     "iopub.status.idle": "2025-03-04T16:58:41.975308Z",
     "shell.execute_reply": "2025-03-04T16:58:41.975089Z"
    }
   },
   "outputs": [],
   "source": [
    "exe = UnorderedExecutor(model)"
   ]
  },
  {
   "cell_type": "code",
   "execution_count": 8,
   "metadata": {
    "execution": {
     "iopub.execute_input": "2025-03-04T16:58:41.976551Z",
     "iopub.status.busy": "2025-03-04T16:58:41.976453Z",
     "iopub.status.idle": "2025-03-04T16:58:42.122665Z",
     "shell.execute_reply": "2025-03-04T16:58:42.122296Z"
    }
   },
   "outputs": [],
   "source": [
    "exe.update(tree)"
   ]
  },
  {
   "cell_type": "code",
   "execution_count": null,
   "metadata": {},
   "outputs": [],
   "source": []
  }
 ],
 "metadata": {
  "kernelspec": {
   "display_name": "hyperiax_dev",
   "language": "python",
   "name": "python3"
  },
  "language_info": {
   "codemirror_mode": {
    "name": "ipython",
    "version": 3
   },
   "file_extension": ".py",
   "mimetype": "text/x-python",
   "name": "python",
   "nbconvert_exporter": "python",
   "pygments_lexer": "ipython3",
   "version": "3.11.4"
  }
 },
 "nbformat": 4,
 "nbformat_minor": 2
}
