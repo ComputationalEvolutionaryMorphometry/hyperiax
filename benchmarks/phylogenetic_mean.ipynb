{
 "cells": [
  {
   "cell_type": "markdown",
   "metadata": {},
   "source": [
    "Todo:\n",
    "\n",
    "coding:\n",
    "- compare with R (phytools)\n",
    "\n",
    "theory:\n",
    "- find out if inverting big trees is really a problem for realistic phylogenies"
   ]
  },
  {
   "cell_type": "code",
   "execution_count": 1,
   "metadata": {},
   "outputs": [],
   "source": [
    "%load_ext autoreload\n",
    "%autoreload 2"
   ]
  },
  {
   "cell_type": "code",
   "execution_count": 2,
   "metadata": {},
   "outputs": [],
   "source": [
    "import hyperiax\n",
    "from jax.random import PRNGKey, split\n",
    "import jax\n",
    "from jax import numpy as jnp\n",
    "from hyperiax.execution import LevelwiseTreeExecutor, DependencyTreeExecutor\n",
    "from hyperiax.models import UpLambda, DownLambda\n",
    "from hyperiax.models.functional import pass_up\n",
    "import jax\n",
    "from functools import partial\n",
    "\n",
    "import time\n",
    "\n",
    "key = PRNGKey(0)"
   ]
  },
  {
   "cell_type": "markdown",
   "metadata": {},
   "source": [
    "## Phylogenetic mean and variance computed via _phylogenetic independent contrasts_ (PIC) \n",
    "\n",
    "Vi use independent contrasts to estimate inner nodes, root and variance under a Brownian motion model.\n",
    "\n",
    "### Inner nodes and root\n",
    "\n",
    "Inner nodes are estimated accorcding to: \n",
    "\n",
    "$$\n",
    "\n",
    "T_I = \\frac{\\frac{1}{e_{x1}}T_{x1} + \\frac{1}{e_{x2}}T_{x2}}{\\frac{1}{e_{x1}}+\\frac{1}{e_{x2}}}\n",
    "$$\n",
    "Where I is the intermediate note between the two nodes x1 and x2 \n",
    "T is the trait for the corresponding node \n",
    "and e is the edge length of the corresponding node \n",
    "\n",
    "To account for uncertainty in estimating intermediate nodes, the PIC estimator modifies the edge lengths according to: \n",
    "\n",
    "$$\n",
    "e_{I} = e_I +\\frac{ e_{x1}*e_{x2}}{e_{x1}+e_{21}}\n",
    "$$\n",
    "where $e$ is the edge length, and I is the intermediate note between the two nodes x1 and x2\n",
    "\n",
    "### Variance estimate\n",
    "\n",
    "The PIC variance estimate is given by\n",
    "\n",
    "$$\\hat{\\sigma}^2_{PIC} = \\frac{\\sum_{i,j} s^2_{ij}}{n-1}$$\n",
    "\n",
    "where\n",
    "\n",
    "$$ s_{ij} = \\frac{T_{x_i} - T_{x_j}}{v_i + v_j}$$\n",
    "\n",
    "which is computed from all (given or estimated) inner nodes and the PIC-adjusted edge-lengths.\n",
    "\n",
    "\n"
   ]
  },
  {
   "cell_type": "markdown",
   "metadata": {},
   "source": [
    "# make tree\n",
    "Add a random example tree, where each value in the nodes is a quantitative trait. \n",
    "\n",
    "To illustrate the edge length correction, we intially assume each length is equal to 1. "
   ]
  },
  {
   "cell_type": "code",
   "execution_count": 3,
   "metadata": {},
   "outputs": [],
   "source": [
    "levels = 7\n",
    "\n",
    "tree = hyperiax.tree.builders.symmetric_tree(levels, 2)\n",
    "\n",
    "subkey, key = split(key)\n",
    "\n",
    "for i, node in enumerate(tree.iter_bfs()):\n",
    "    node['edge_length'] = 1#+i\n",
    "\n",
    "for i, leaf in enumerate(tree.iter_leaves()):\n",
    "    key, subkey = split(key)\n",
    "    leaf['size'] = 1 #jax.random.randint(subkey, (1,),1,20)\n",
    "    leaf['independent_contrast'] = 0 #jax.random.randint(subkey, (1,),1,20)\n",
    "   # leaf['size'] = i +1"
   ]
  },
  {
   "cell_type": "code",
   "execution_count": 4,
   "metadata": {},
   "outputs": [],
   "source": [
    "if levels < 5:\n",
    "    tree.plot_tree()"
   ]
  },
  {
   "cell_type": "markdown",
   "metadata": {},
   "source": [
    "## Compute inner nodes and independent contrasts"
   ]
  },
  {
   "cell_type": "code",
   "execution_count": 6,
   "metadata": {},
   "outputs": [],
   "source": [
    "### dummy pass_up function (for testing)\n",
    "\n",
    "up = pass_up('size','edge_length')\n",
    "\n",
    "def fuse(child_edge_length,child_size, edge_length, **kwargs):\n",
    "\n",
    "    return {'size':1, 'edge_length':1}\n"
   ]
  },
  {
   "cell_type": "code",
   "execution_count": 88,
   "metadata": {},
   "outputs": [],
   "source": [
    "# ### for inner node estimation only (using the IC reweighted edges)\n",
    "\n",
    "# up = pass_up('size','edge_length')\n",
    "\n",
    "# def fuse(child_edge_length,child_size, edge_length, **kwargs):\n",
    "\n",
    "#     corrected_edge_length = edge_length+(child_edge_length[0]*child_edge_length[1])/(child_edge_length[0]+child_edge_length[1])\n",
    "\n",
    "#     top = 1/child_edge_length[0]*child_size[0]+1/child_edge_length[1]*child_size[1] \n",
    "#     bot = 1/child_edge_length[0]              +1/child_edge_length[1] \n",
    "#     return {'size':top/bot, 'edge_length':corrected_edge_length}\n",
    "\n",
    "\n",
    "# upmodel = UpLambda(up, fuse)\n",
    "# root_exe = DependencyTreeExecutor(upmodel, batch_size=5)\n",
    "# corrected_tree = root_exe.up(corrected_tree)\n",
    "\n"
   ]
  },
  {
   "cell_type": "code",
   "execution_count": 89,
   "metadata": {},
   "outputs": [],
   "source": [
    "### this version includes computation of independent contrasts (to be used for the variance estimate)\n",
    "\n",
    "# up = pass_up('size', 'independent_contrast','edge_length')\n",
    "\n",
    "# def fuse(child_edge_length,child_size, edge_length, **kwargs):\n",
    "\n",
    "#     corrected_edge_length = edge_length+(child_edge_length[0]*child_edge_length[1])/(child_edge_length[0]+child_edge_length[1])\n",
    "\n",
    "#     # inner node est\n",
    "#     numerator = 1/child_edge_length[0]*child_size[0]+1/child_edge_length[1]*child_size[1] \n",
    "#     denominator = 1/child_edge_length[0]              +1/child_edge_length[1] \n",
    "#     node_est = numerator / denominator\n",
    "\n",
    "#     # independent contrast \n",
    "#     IC = (child_size[0] - child_size[1]) / (child_edge_length[0] + child_edge_length[1])\n",
    "    \n",
    "#     return {'size': node_est, 'independent_contrast': IC, 'edge_length': corrected_edge_length}\n",
    "\n",
    "\n"
   ]
  },
  {
   "cell_type": "code",
   "execution_count": 7,
   "metadata": {},
   "outputs": [
    {
     "name": "stdout",
     "output_type": "stream",
     "text": [
      "0.10872292518615723\n"
     ]
    }
   ],
   "source": [
    "start = time.time()\n",
    "\n",
    "upmodel = UpLambda(up, fuse)\n",
    "root_exe = DependencyTreeExecutor(upmodel, batch_size=5)\n",
    "estimated_tree = root_exe.up(tree)\n",
    "\n",
    "\n",
    "end = time.time()\n",
    "print(end - start)"
   ]
  },
  {
   "cell_type": "code",
   "execution_count": null,
   "metadata": {},
   "outputs": [
    {
     "name": "stdout",
     "output_type": "stream",
     "text": [
      "TreeNode({'edge_length': Array(1.9990234, dtype=float32, weak_type=True), 'size': Array(1., dtype=float32, weak_type=True)}) with 2 children\n"
     ]
    }
   ],
   "source": [
    "print(estimated_tree.root)"
   ]
  },
  {
   "cell_type": "markdown",
   "metadata": {},
   "source": [
    "Compute covariance"
   ]
  },
  {
   "cell_type": "code",
   "execution_count": null,
   "metadata": {},
   "outputs": [
    {
     "name": "stdout",
     "output_type": "stream",
     "text": [
      "[[6.814815]]\n"
     ]
    }
   ],
   "source": [
    "# extract the N-1 independent contrasts and compute the variance estimate\n",
    "\n",
    "independent_contrasts = jnp.array([node['independent_contrast'] for node in estimated_tree.iter_bfs() if node.children])  # do this in a faster way?\n",
    "\n",
    "# Compute the sum of outer products\n",
    "var_est_pic = jnp.einsum('ji,jk->ik', independent_contrasts, independent_contrasts) / independent_contrasts.shape[0]\n",
    "\n",
    "print(var_est_pic)"
   ]
  },
  {
   "cell_type": "markdown",
   "metadata": {},
   "source": [
    "# Plot estimated inner nodes (trait values)\n",
    "\n",
    "Here i move the size to the \"name\" place, because I earlier implenented that it was possible to see the name of nodes (and therefor replace it with the size)\n",
    "It would might be better for a futgure implementation to do something about the dot size and with coloring \n",
    "\n",
    "Note also that the root is not included in this plot with names..."
   ]
  },
  {
   "cell_type": "code",
   "execution_count": null,
   "metadata": {},
   "outputs": [],
   "source": [
    "for leaf in corrected_tree.iter_bfs():\n",
    "    leaf.name = \"   \"+str(leaf['size'][0]) + \"   \"\n",
    "    \n",
    "if levels < 5:\n",
    "    corrected_tree.plot_tree_text()"
   ]
  }
 ],
 "metadata": {
  "kernelspec": {
   "display_name": "jax311",
   "language": "python",
   "name": "python3"
  },
  "language_info": {
   "codemirror_mode": {
    "name": "ipython",
    "version": 3
   },
   "file_extension": ".py",
   "mimetype": "text/x-python",
   "name": "python",
   "nbconvert_exporter": "python",
   "pygments_lexer": "ipython3",
   "version": "3.12.1"
  }
 },
 "nbformat": 4,
 "nbformat_minor": 2
}
