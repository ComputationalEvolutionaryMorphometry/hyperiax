{
 "cells": [
  {
   "cell_type": "code",
   "execution_count": 157,
   "metadata": {
    "vscode": {
     "languageId": "r"
    }
   },
   "outputs": [],
   "source": [
    "library(\"ape\")\n",
    "library(\"castor\")\n",
    "library(\"TreeTools\")\n",
    "\n",
    "# # relevant functions\n",
    "# simulate_bm_model\n",
    "# asr_independent_contrasts\n",
    "# fit_bm_model\n",
    "# generate_random_tree # tree <- generate_random_tree(max_tips=1000)\n",
    "\n",
    "n_tips <- 2**7\n",
    "tree <- BalancedTree(tips=n_tips)\n",
    "tree$edge.length <- rep(1, Nedge(tree))\n",
    "\n",
    "tips_sim <- rep(1, Ntip(tree)) #rnorm(Ntip(tree))\n",
    "# tree$edge.length <- runif(n = length(tree$edge.length), min = 0.1, max = 1.0)\n"
   ]
  },
  {
   "cell_type": "code",
   "execution_count": 158,
   "metadata": {
    "vscode": {
     "languageId": "r"
    }
   },
   "outputs": [
    {
     "data": {
      "text/plain": [
       "Time difference of 0.001296043 secs"
      ]
     },
     "metadata": {},
     "output_type": "display_data"
    }
   ],
   "source": [
    "#### APE \n",
    "start.time <- Sys.time()\n",
    "\n",
    "pic_ape <- pic(tips_sim, tree)\n",
    "\n",
    "end.time <- Sys.time()\n",
    "time.taken <- round(end.time - start.time,20)\n",
    "time.taken"
   ]
  },
  {
   "cell_type": "code",
   "execution_count": 159,
   "metadata": {
    "vscode": {
     "languageId": "r"
    }
   },
   "outputs": [
    {
     "data": {
      "text/plain": [
       "Time difference of 0.0008890629 secs"
      ]
     },
     "metadata": {},
     "output_type": "display_data"
    }
   ],
   "source": [
    "#### CASTOR\n",
    "start.time <- Sys.time()\n",
    "\n",
    "pic_castor <- asr_independent_contrasts(tree, tips_sim, weighted = FALSE)\n",
    "\n",
    "end.time <- Sys.time()\n",
    "time.taken <- round(end.time - start.time,20)\n",
    "time.taken"
   ]
  },
  {
   "cell_type": "code",
   "execution_count": null,
   "metadata": {
    "vscode": {
     "languageId": "r"
    }
   },
   "outputs": [],
   "source": []
  }
 ],
 "metadata": {
  "kernelspec": {
   "display_name": "R",
   "language": "R",
   "name": "ir"
  },
  "language_info": {
   "codemirror_mode": "r",
   "file_extension": ".r",
   "mimetype": "text/x-r-source",
   "name": "R",
   "pygments_lexer": "r",
   "version": "4.3.3"
  }
 },
 "nbformat": 4,
 "nbformat_minor": 2
}
