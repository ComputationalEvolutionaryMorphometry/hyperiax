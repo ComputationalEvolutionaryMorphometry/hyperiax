{
 "cells": [
  {
   "cell_type": "code",
   "execution_count": 1,
   "metadata": {},
   "outputs": [],
   "source": [
    "import hyperiax\n",
    "\n",
    "\n",
    "from hyperiax.tree.topology import symmetric_topology, asymmetric_topology, read_topology, write_topology\n",
    "from hyperiax.tree import HypTree\n",
    "from hyperiax.plotting import plot_tree\n",
    "\n",
    "from jax.random import PRNGKey, split\n",
    "import jax\n",
    "from jax import numpy as jnp\n",
    "from hyperiax.execution import OrderedExecutor\n",
    "from hyperiax.models import UpLambdaReducer, DownLambda, UpLambda\n",
    "from hyperiax.models.functional import pass_up\n",
    "from hyperiax.tree.topology import symmetric_topology, asymmetric_topology\n",
    "from hyperiax.tree import HypTree\n",
    "from hyperiax.plotting import plot_tree_text, plot_tree_2d_scatter\n",
    "from matplotlib import pyplot as plt\n",
    "import jax\n",
    "\n"
   ]
  },
  {
   "cell_type": "markdown",
   "metadata": {},
   "source": [
    "# Rate likelihood estimation\n",
    "\n",
    "This document is combined with the R simulations, and take the results the simulations from there and compare the results"
   ]
  },
  {
   "cell_type": "code",
   "execution_count": 2,
   "metadata": {},
   "outputs": [],
   "source": [
    "# Read tree, with edge lengths here\n",
    "\n",
    "#tree_string = open(\"./R/data-R/tree.tre\", \"r\").read()\n",
    "#tree = read_topology(tree_string,return_topology=False,precompute_child_gathers=True)\n",
    "\n",
    "#plot_tree(tree,inc_names=True)\n"
   ]
  },
  {
   "cell_type": "code",
   "execution_count": 3,
   "metadata": {},
   "outputs": [
    {
     "name": "stdout",
     "output_type": "stream",
     "text": [
      "   0\n",
      " ┌─┴─┐\n",
      " 1   2 \n",
      "┌┴┐ ┌┴┐\n",
      "3 4 5 6\n"
     ]
    },
    {
     "data": {
      "image/png": "[encoded data removed]",
      "text/plain": [
       "<Figure size 1000x800 with 1 Axes>"
      ]
     },
     "metadata": {},
     "output_type": "display_data"
    }
   ],
   "source": [
    "import hyperiax\n",
    "\n",
    "\n",
    "from hyperiax.tree.topology import symmetric_topology, asymmetric_topology, read_topology, write_topology\n",
    "from hyperiax.tree import HypTree\n",
    "from hyperiax.plotting import plot_tree\n",
    "\n",
    "from jax.random import PRNGKey, split\n",
    "import jax\n",
    "from jax import numpy as jnp\n",
    "from hyperiax.execution import OrderedExecutor\n",
    "from hyperiax.models import UpLambdaReducer, DownLambda, UpLambda\n",
    "from hyperiax.models.functional import pass_up\n",
    "from hyperiax.tree.topology import symmetric_topology, asymmetric_topology\n",
    "from hyperiax.tree import HypTree\n",
    "from hyperiax.plotting import plot_tree_text, plot_tree_2d_scatter\n",
    "from matplotlib import pyplot as plt\n",
    "import jax\n",
    "#topology = symmetric_topology(height=2, degree=2)\n",
    "#topology = asymmetric_topology(2)\n",
    "key = PRNGKey(0)\n",
    "\n",
    "topology = symmetric_topology(height=2, degree=2)\n",
    "\n",
    "tree = HypTree(topology, precompute_child_gathers=True)\n",
    "\n",
    "\n",
    "# Propreties of the tree\n",
    "\n",
    "# Branch/edge length, assumed to be constant one \n",
    "tree.add_property('edge_length', shape=(1,))\n",
    "\n",
    "tree.data[\"edge_length\"]  = jnp.array([1.0] * tree.size)\n",
    "#tree.data[\"edge_length\"]  = jnp.array([0.1, 2.0, 0.3, 0.6, 0.5, 1.0, 0.0])\n",
    "\n",
    "for i,node in enumerate(tree.iter_topology_bfs()):\n",
    "    node.name = str(i)\n",
    "\n",
    "\n",
    "# plot tree again \n",
    "plot_tree_text(tree)\n",
    "plot_tree(tree,inc_names=True)\n",
    "\n",
    "\n",
    "tree.add_property('estimated_value', shape=(2,))\n",
    "tree.add_property('value', shape=(2,))\n",
    "\n",
    "tree.data['value'] = tree.data['value'].at[tree.is_leaf].set(jax.random.bernoulli(key, p=0.5, shape=(sum(tree.is_leaf),2)))\n",
    "\n",
    "\n",
    "leaf_data = tree.data['value'][tree.is_leaf]\n",
    "tree.data['estimated_value'] = tree.data['estimated_value'].at[tree.is_leaf].set(leaf_data)\n",
    "\n",
    "leaf_edgelength = tree.data['edge_length'][tree.is_leaf]"
   ]
  },
  {
   "cell_type": "code",
   "execution_count": 4,
   "metadata": {},
   "outputs": [],
   "source": [
    "import pandas as pd\n",
    "# Add the data to the tree\n",
    "\n",
    "\n",
    "tree.add_property('alpha', shape=(1,))\n",
    "tree.add_property('beta', shape=(1,))\n",
    "\n",
    "\n",
    "\n"
   ]
  },
  {
   "cell_type": "markdown",
   "metadata": {},
   "source": [
    "# Hyperiax implementaiton of the likelihood estimator\n"
   ]
  },
  {
   "cell_type": "code",
   "execution_count": 5,
   "metadata": {},
   "outputs": [],
   "source": [
    "# Define rate matrix, which is 2x2 as a function of input of alpha and beta\n",
    "# as a function \n",
    "Q_rate_matrix = lambda alpha, beta: jnp.array([[-alpha, alpha], [beta, -beta]])\n",
    "\n",
    "prob_estimation = lambda character, length, alpha, beta: jnp.dot(character, jax.scipy.linalg.expm(Q_rate_matrix(alpha, beta) * length))\n",
    "\n",
    "def probability_function(value,child_estimated_value, child_edge_length,leaf_mask, child_alpha, child_beta,**kwargs):\n",
    "    # Assume all rows in child_params are identical\n",
    "    alpha = child_alpha[0,0].astype(float)[0]  # Extract first value assuming they are the same\n",
    "    beta = child_beta[0,0].astype(float)[0]  # Extract first value assuming they are the same\n",
    "\n",
    "    # Use the prob_estimation function defined at module level and vectorize the operation\n",
    "    probs = jax.vmap(lambda x, y: prob_estimation(x, y, alpha, beta),in_axes=0)(child_estimated_value, child_edge_length)\n",
    "\n",
    "    # Compute the product along axis 1\n",
    "    prods = jnp.prod(probs, axis=1)\n",
    "\n",
    "    # Rescale the likelihood\n",
    "    result = prods / jnp.sum(prods, axis=1, keepdims=True)\n",
    "\n",
    "    # Mask padding\n",
    "    result = jnp.where(leaf_mask[:, None], value, result)\n",
    "    return {'estimated_value': prods}\n",
    "\n",
    "\n",
    "\n",
    "\n"
   ]
  },
  {
   "cell_type": "code",
   "execution_count": 6,
   "metadata": {},
   "outputs": [],
   "source": [
    "\n",
    "\n",
    "upmodel = UpLambda(up_fn=probability_function)\n",
    "upmodelexe = OrderedExecutor(upmodel)"
   ]
  },
  {
   "cell_type": "code",
   "execution_count": 9,
   "metadata": {},
   "outputs": [
    {
     "name": "stdout",
     "output_type": "stream",
     "text": [
      "Negative log likelihood values for different alpha-beta combinations:\n",
      "\n",
      "Best parameters:\n",
      "Alpha: 0.010\n",
      "Beta: 0.010\n",
      "Negative log likelihood: -5.338\n"
     ]
    }
   ],
   "source": [
    "pi_root = jnp.array([0.5,0.5])\n",
    "\n",
    "\n",
    "def negative_log_likelihood(pred_root):\n",
    "    #print(jnp.log(jnp.sum(pi_root*pred_root)))\n",
    "    return float(jnp.log(jnp.sum(pi_root*pred_root)))\n",
    "\n",
    "\n",
    "# Create grid of alpha and beta values\n",
    "alphas = jnp.linspace(0.01, 0.99, 20)\n",
    "betas = jnp.linspace(0.01, 0.99, 20)\n",
    "\n",
    "# Initialize array to store results\n",
    "results = jnp.zeros((len(alphas), len(betas)))\n",
    "\n",
    "# Calculate negative log likelihood for each combination\n",
    "for i, alpha in enumerate(alphas):\n",
    "    for j, beta in enumerate(betas):\n",
    "        tree.data['alpha'] = tree.data['alpha'].at[:].set(jnp.array([alpha]))\n",
    "        tree.data['beta'] = tree.data['beta'].at[:].set(jnp.array([beta]))\n",
    "\n",
    "        res = upmodelexe.up(tree)\n",
    "\n",
    "        pred_root = jnp.array(tree.data[\"estimated_value\"][tree.is_root])[0]\n",
    "        results = results.at[i,j].set(negative_log_likelihood(pred_root))\n",
    "\n",
    "# Print results\n",
    "print(\"Negative log likelihood values for different alpha-beta combinations:\")\n",
    "#print(results)\n",
    "\n",
    "# Find best parameters\n",
    "min_idx = jnp.argmin(results)\n",
    "best_i, best_j = min_idx // len(betas), min_idx % len(betas)\n",
    "print(f\"\\nBest parameters:\")\n",
    "print(f\"Alpha: {alphas[best_i]:.3f}\")\n",
    "print(f\"Beta: {betas[best_j]:.3f}\")\n",
    "print(f\"Negative log likelihood: {results[best_i, best_j]:.3f}\")\n",
    "\n"
   ]
  },
  {
   "cell_type": "code",
   "execution_count": 10,
   "metadata": {},
   "outputs": [
    {
     "data": {
      "image/png": "[encoded data removed]",
      "text/plain": [
       "<Figure size 1000x800 with 2 Axes>"
      ]
     },
     "metadata": {},
     "output_type": "display_data"
    }
   ],
   "source": [
    "import matplotlib.pyplot as plt\n",
    "\n",
    "# Create a heatmap\n",
    "plt.figure(figsize=(10, 8))\n",
    "plt.imshow(results, cmap='viridis', aspect='auto',\n",
    "           extent=[betas[0], betas[-1], alphas[-1], alphas[0]])  # Flip alpha axis\n",
    "plt.colorbar(label='Negative Log Likelihood')\n",
    "\n",
    "# Add labels and title\n",
    "plt.xlabel('Beta')\n",
    "plt.ylabel('Alpha') \n",
    "plt.title('Negative Log Likelihood Heatmap')\n",
    "\n",
    "# Mark the minimum point\n",
    "plt.plot(betas[best_j], alphas[best_i], 'r*', markersize=15,\n",
    "         label=f'Minimum (α={alphas[best_i]:.3f}, β={betas[best_j]:.3f})')\n",
    "plt.legend()\n",
    "\n",
    "plt.show()"
   ]
  },
  {
   "cell_type": "code",
   "execution_count": null,
   "metadata": {},
   "outputs": [],
   "source": []
  }
 ],
 "metadata": {
  "kernelspec": {
   "display_name": "jax311",
   "language": "python",
   "name": "python3"
  },
  "language_info": {
   "codemirror_mode": {
    "name": "ipython",
    "version": 3
   },
   "file_extension": ".py",
   "mimetype": "text/x-python",
   "name": "python",
   "nbconvert_exporter": "python",
   "pygments_lexer": "ipython3",
   "version": "3.11.8"
  }
 },
 "nbformat": 4,
 "nbformat_minor": 2
}
